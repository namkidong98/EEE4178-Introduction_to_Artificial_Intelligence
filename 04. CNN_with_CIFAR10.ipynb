{
  "nbformat": 4,
  "nbformat_minor": 0,
  "metadata": {
    "colab": {
      "provenance": []
    },
    "kernelspec": {
      "name": "python3",
      "display_name": "Python 3"
    },
    "language_info": {
      "name": "python"
    }
  },
  "cells": [
    {
      "cell_type": "markdown",
      "source": [
        "## CIFAR10\n",
        "32x32 픽셀의 60000개 컬러 이미지로 구성된 데이터로 10개 클래스로 라벨링 되어 있다.    \n",
        "MNIST와 같이 머신러닝 연구에 가장 널리 사용되는 dataset중 하나이다."
      ],
      "metadata": {
        "id": "BoD0_xJWrH97"
      }
    },
    {
      "cell_type": "code",
      "execution_count": 1,
      "metadata": {
        "id": "-xw1bT1LHbiM"
      },
      "outputs": [],
      "source": [
        "import numpy as np\n",
        "import matplotlib.pyplot as plt\n",
        "\n",
        "import torch\n",
        "import torch.nn as nn\n",
        "\n",
        "import torchvision\n",
        "import torchvision.transforms as transforms"
      ]
    },
    {
      "cell_type": "markdown",
      "source": [
        "## 1. Define Hyper-parameters and pre-set device on cuda"
      ],
      "metadata": {
        "id": "UjCNs-y4rSYz"
      }
    },
    {
      "cell_type": "code",
      "source": [
        "# Device Configuration\n",
        "device = torch.device('cuda' if torch.cuda.is_available() else 'cpu')\n",
        "\n",
        "num_classes = 10  # 다중 분류에서 클래스가 10개 있으므로\n",
        "in_channel = 3    # 흑백이 아닌 컬러 이미지이기 때문에 RGB에 해당하는 3 channel\n",
        "\n",
        "# Hyper-Parameter\n",
        "num_epochs = 20\n",
        "batch_size = 64\n",
        "max_pool_kernel = 2\n",
        "learning_rate = 0.001"
      ],
      "metadata": {
        "id": "qtqXXvcNrTN3"
      },
      "execution_count": 2,
      "outputs": []
    },
    {
      "cell_type": "markdown",
      "source": [
        "## 2. Load Data"
      ],
      "metadata": {
        "id": "oJpwNucDr0eG"
      }
    },
    {
      "cell_type": "code",
      "source": [
        "# 이미지 정규화\n",
        "transform = transforms.Compose([transforms.ToTensor(), # 우선 텐서로 바꿔주고\n",
        "                                transforms.Normalize((0.5, 0.5, 0.5), (0.5, 0.5, 0.5))]) # RGB 이미지의 각 채널에 대해 평균이 0.5, 표준편차가 0.5로 정규화를 수행"
      ],
      "metadata": {
        "id": "KgJJLcGOQyyE"
      },
      "execution_count": 3,
      "outputs": []
    },
    {
      "cell_type": "code",
      "source": [
        "train_data = torchvision.datasets.CIFAR10(root='./datasets',\n",
        "                                          train=True,\n",
        "                                          transform = transform,\n",
        "                                          download=True)\n",
        "test_data = torchvision.datasets.CIFAR10(root='./datasets',\n",
        "                                         train=False,\n",
        "                                         transform = transform)"
      ],
      "metadata": {
        "colab": {
          "base_uri": "https://localhost:8080/"
        },
        "id": "N4_ZgVJSqTB9",
        "outputId": "d18b17bd-7b39-44f5-b45e-11c4a929217d"
      },
      "execution_count": 4,
      "outputs": [
        {
          "output_type": "stream",
          "name": "stdout",
          "text": [
            "Files already downloaded and verified\n"
          ]
        }
      ]
    },
    {
      "cell_type": "code",
      "source": [
        "''' Normalize(정규화)를 하지 않은 경우\n",
        "train_data = torchvision.datasets.CIFAR10(root='./datasets',\n",
        "                                          train=True,\n",
        "                                          transform = transforms.ToTensor(),\n",
        "                                          download=True)\n",
        "test_data = torchvision.datasets.CIFAR10(root='./datasets',\n",
        "                                         train=False,\n",
        "                                         transform = transforms.ToTensor())\n",
        "'''"
      ],
      "metadata": {
        "colab": {
          "base_uri": "https://localhost:8080/",
          "height": 72
        },
        "id": "p3FpRp70YeWw",
        "outputId": "e48ee73e-71ff-40ee-f725-e0ea06659b4f"
      },
      "execution_count": 5,
      "outputs": [
        {
          "output_type": "execute_result",
          "data": {
            "text/plain": [
              "\" Normalize(정규화)를 하지 않은 경우\\ntrain_data = torchvision.datasets.CIFAR10(root='./datasets',\\n                                          train=True,\\n                                          transform = transforms.ToTensor(),\\n                                          download=True)\\ntest_data = torchvision.datasets.CIFAR10(root='./datasets',\\n                                         train=False,\\n                                         transform = transforms.ToTensor())\\n\""
            ],
            "application/vnd.google.colaboratory.intrinsic+json": {
              "type": "string"
            }
          },
          "metadata": {},
          "execution_count": 5
        }
      ]
    },
    {
      "cell_type": "markdown",
      "source": [
        "## 3. Check Image"
      ],
      "metadata": {
        "id": "vkLkS304r5Gg"
      }
    },
    {
      "cell_type": "code",
      "source": [
        "test_data[0][0].shape"
      ],
      "metadata": {
        "colab": {
          "base_uri": "https://localhost:8080/"
        },
        "id": "fjoKn4qmq3-h",
        "outputId": "6b961c40-5ba7-4abd-ba7d-1c74bc1ed80e"
      },
      "execution_count": 6,
      "outputs": [
        {
          "output_type": "execute_result",
          "data": {
            "text/plain": [
              "torch.Size([3, 32, 32])"
            ]
          },
          "metadata": {},
          "execution_count": 6
        }
      ]
    },
    {
      "cell_type": "code",
      "source": [
        "plt.figure(figsize=(15,10))\n",
        "target = 0\n",
        "for i in range(200):\n",
        "  image = test_data[i][0]\n",
        "  label = test_data[i][1]\n",
        "  if target == 10: break\n",
        "  if label == target:\n",
        "    image = torchvision.utils.make_grid(image)\n",
        "    image = image / 2 + 0.5     # unnormalize\n",
        "    npimg = image.numpy()\n",
        "\n",
        "    plt.subplot(1, 10, target+1)\n",
        "    plt.imshow(np.transpose(npimg, (1, 2, 0)))\n",
        "    plt.title(label)\n",
        "    target += 1\n",
        "\n",
        "plt.show()\n",
        "\n",
        "#classes = 'plane', 'car', 'bird', 'cat', 'deer', 'dog', 'frog', 'horse', 'ship', 'truck'"
      ],
      "metadata": {
        "colab": {
          "base_uri": "https://localhost:8080/",
          "height": 181
        },
        "id": "IhSB-LnjRNDB",
        "outputId": "00eb1caa-7ab1-4ce7-a129-985c6766a0a3"
      },
      "execution_count": 7,
      "outputs": [
        {
          "output_type": "display_data",
          "data": {
            "text/plain": [
              "<Figure size 1500x1000 with 10 Axes>"
            ],
            "image/png": "[encoded data removed]"
          },
          "metadata": {}
        }
      ]
    },
    {
      "cell_type": "code",
      "source": [
        "''' # Normalize(정규화)를 하지 않은 경우\n",
        "plt.figure(figsize=(15,10))\n",
        "target = 0\n",
        "for i in range(200):\n",
        "  image = test_data[i][0]\n",
        "  label = test_data[i][1]\n",
        "  if target == 10: break\n",
        "  if label == target:\n",
        "\n",
        "    plt.subplot(1, 10, target+1)\n",
        "    plt.imshow(image.permute(1, 2, 0))\n",
        "    plt.title(label)\n",
        "    target += 1\n",
        "\n",
        "plt.show()\n",
        "'''"
      ],
      "metadata": {
        "colab": {
          "base_uri": "https://localhost:8080/",
          "height": 54
        },
        "id": "gIqGAp8oZKLo",
        "outputId": "e25c4c31-b52c-4212-b40d-8ada2faf36ad"
      },
      "execution_count": 8,
      "outputs": [
        {
          "output_type": "execute_result",
          "data": {
            "text/plain": [
              "' # Normalize(정규화)를 하지 않은 경우\\nplt.figure(figsize=(15,10))\\ntarget = 0\\nfor i in range(200):\\n  image = test_data[i][0]\\n  label = test_data[i][1]\\n  if target == 10: break\\n  if label == target:\\n    \\n    plt.subplot(1, 10, target+1)\\n    plt.imshow(image.permute(1, 2, 0))\\n    plt.title(label)\\n    target += 1\\n  \\nplt.show()  \\n'"
            ],
            "application/vnd.google.colaboratory.intrinsic+json": {
              "type": "string"
            }
          },
          "metadata": {},
          "execution_count": 8
        }
      ]
    },
    {
      "cell_type": "markdown",
      "source": [
        "## 4. Load DataLoader"
      ],
      "metadata": {
        "id": "gBL5e1ESr-14"
      }
    },
    {
      "cell_type": "code",
      "source": [
        "train_loader = torch.utils.data.DataLoader(dataset=train_data,\n",
        "                                           batch_size = batch_size,\n",
        "                                           shuffle = True)\n",
        "test_loader = torch.utils.data.DataLoader(dataset = test_data,\n",
        "                                          batch_size = batch_size,\n",
        "                                          shuffle = False)"
      ],
      "metadata": {
        "id": "XNRclPLWsAit"
      },
      "execution_count": 9,
      "outputs": []
    },
    {
      "cell_type": "code",
      "source": [
        "# check how data loader works\n",
        "print(len(test_loader)) # 10000 / 64(batch_size) = 156.25이므로 test_loader는 총 157번 batch를 꺼낸다\n",
        "\n",
        "for idx, (images, labels) in enumerate(test_loader): # test_loader에서 하나의 batch를 꺼내서 image와 label로 나눈다\n",
        "  if idx == 3: # 0~2까지 3개를 출력하고 멈추게\n",
        "    break\n",
        "  print(image.size(), len(images), labels)\n",
        "  # image.size() :  이미지는 3x32x32로 되어있고\n",
        "  # len(images) :   image의 개수는 매번 시행마다 batch_size만큼 꺼내오기 때문에 미리 설정한 batch_size이고\n",
        "  # labels :        매 시행마다 batch_size만큼에 대한 라벨(클래스)가 나온다"
      ],
      "metadata": {
        "colab": {
          "base_uri": "https://localhost:8080/"
        },
        "id": "QY9VSdE8Zhgr",
        "outputId": "01dedddc-2a01-4748-938a-b2250325997c"
      },
      "execution_count": 10,
      "outputs": [
        {
          "output_type": "stream",
          "name": "stdout",
          "text": [
            "157\n",
            "torch.Size([3, 32, 32]) 64 tensor([3, 8, 8, 0, 6, 6, 1, 6, 3, 1, 0, 9, 5, 7, 9, 8, 5, 7, 8, 6, 7, 0, 4, 9,\n",
            "        5, 2, 4, 0, 9, 6, 6, 5, 4, 5, 9, 2, 4, 1, 9, 5, 4, 6, 5, 6, 0, 9, 3, 9,\n",
            "        7, 6, 9, 8, 0, 3, 8, 8, 7, 7, 4, 6, 7, 3, 6, 3])\n",
            "torch.Size([3, 32, 32]) 64 tensor([6, 2, 1, 2, 3, 7, 2, 6, 8, 8, 0, 2, 9, 3, 3, 8, 8, 1, 1, 7, 2, 5, 2, 7,\n",
            "        8, 9, 0, 3, 8, 6, 4, 6, 6, 0, 0, 7, 4, 5, 6, 3, 1, 1, 3, 6, 8, 7, 4, 0,\n",
            "        6, 2, 1, 3, 0, 4, 2, 7, 8, 3, 1, 2, 8, 0, 8, 3])\n",
            "torch.Size([3, 32, 32]) 64 tensor([5, 2, 4, 1, 8, 9, 1, 2, 9, 7, 2, 9, 6, 5, 6, 3, 8, 7, 6, 2, 5, 2, 8, 9,\n",
            "        6, 0, 0, 5, 2, 9, 5, 4, 2, 1, 6, 6, 8, 4, 8, 4, 5, 0, 9, 9, 9, 8, 9, 9,\n",
            "        3, 7, 5, 0, 0, 5, 2, 2, 3, 8, 6, 3, 4, 0, 5, 8])\n"
          ]
        }
      ]
    },
    {
      "cell_type": "markdown",
      "source": [
        "## 5. Define Model"
      ],
      "metadata": {
        "id": "QcVpiLbKsTBw"
      }
    },
    {
      "cell_type": "code",
      "source": [
        "class Conv(nn.Module):\n",
        "  def __init__(self, num_classes):\n",
        "    super(Conv, self).__init__() # nn.Module을 상속받고\n",
        "\n",
        "    self.layer1 = nn.Sequential( # 32x32x3 --> 32x32x16\n",
        "        nn.Conv2d(in_channels=in_channel, out_channels=16, kernel_size=5, stride=1, padding=2),\n",
        "        nn.BatchNorm2d(16),\n",
        "        nn.ReLU(),\n",
        "        nn.MaxPool2d(max_pool_kernel) # 32x32x16 --> 16x16x16\n",
        "    )\n",
        "    self.layer2 = nn.Sequential( # 16x16x16 --> 16x16x32\n",
        "        nn.Conv2d(in_channels=16, out_channels=32, kernel_size=5, stride=1, padding=2),\n",
        "        nn.BatchNorm2d(32),\n",
        "        nn.ReLU(),\n",
        "        nn.MaxPool2d(max_pool_kernel) # 16x16x32 --> 8x8x32\n",
        "    )\n",
        "    self.layer3 = nn.Sequential( # 8x8x32 --> # 8x8x64\n",
        "        nn.Conv2d(in_channels=32, out_channels=64, kernel_size=5, stride=1, padding=2),\n",
        "        nn.BatchNorm2d(64),\n",
        "        nn.ReLU(),\n",
        "        nn.MaxPool2d(max_pool_kernel) # 8x8x64 --> 4x4x64\n",
        "    )\n",
        "    self.fc = nn.Linear(4*4*64, num_classes)\n",
        "\n",
        "  def forward(self, x):\n",
        "    x = self.layer1(x)\n",
        "    x = self.layer2(x)\n",
        "    x = self.layer3(x)\n",
        "\n",
        "    x = x.reshape(x.size(0), -1) # fully connected layer에 맞게 batch_size(x.size(0))와 1차원으로 flatten\n",
        "    x = self.fc(x)\n",
        "    return x"
      ],
      "metadata": {
        "id": "GhmQte62sShp"
      },
      "execution_count": 11,
      "outputs": []
    },
    {
      "cell_type": "code",
      "source": [
        "model = Conv(num_classes)\n",
        "print(model)"
      ],
      "metadata": {
        "colab": {
          "base_uri": "https://localhost:8080/"
        },
        "id": "qxrHLw62cQIa",
        "outputId": "390795a8-59be-44d5-e6fe-40fe5518812a"
      },
      "execution_count": 12,
      "outputs": [
        {
          "output_type": "stream",
          "name": "stdout",
          "text": [
            "Conv(\n",
            "  (layer1): Sequential(\n",
            "    (0): Conv2d(3, 16, kernel_size=(5, 5), stride=(1, 1), padding=(2, 2))\n",
            "    (1): BatchNorm2d(16, eps=1e-05, momentum=0.1, affine=True, track_running_stats=True)\n",
            "    (2): ReLU()\n",
            "    (3): MaxPool2d(kernel_size=2, stride=2, padding=0, dilation=1, ceil_mode=False)\n",
            "  )\n",
            "  (layer2): Sequential(\n",
            "    (0): Conv2d(16, 32, kernel_size=(5, 5), stride=(1, 1), padding=(2, 2))\n",
            "    (1): BatchNorm2d(32, eps=1e-05, momentum=0.1, affine=True, track_running_stats=True)\n",
            "    (2): ReLU()\n",
            "    (3): MaxPool2d(kernel_size=2, stride=2, padding=0, dilation=1, ceil_mode=False)\n",
            "  )\n",
            "  (layer3): Sequential(\n",
            "    (0): Conv2d(32, 64, kernel_size=(5, 5), stride=(1, 1), padding=(2, 2))\n",
            "    (1): BatchNorm2d(64, eps=1e-05, momentum=0.1, affine=True, track_running_stats=True)\n",
            "    (2): ReLU()\n",
            "    (3): MaxPool2d(kernel_size=2, stride=2, padding=0, dilation=1, ceil_mode=False)\n",
            "  )\n",
            "  (fc): Linear(in_features=1024, out_features=10, bias=True)\n",
            ")\n"
          ]
        }
      ]
    },
    {
      "cell_type": "markdown",
      "source": [
        "## 6. Criterion & Optimizer"
      ],
      "metadata": {
        "id": "jqHPPdyScylF"
      }
    },
    {
      "cell_type": "code",
      "source": [
        "criterion = nn.CrossEntropyLoss()\n",
        "optimizer = torch.optim.Adam(model.parameters(), lr = learning_rate)"
      ],
      "metadata": {
        "id": "AiFigvpCc2bw"
      },
      "execution_count": 13,
      "outputs": []
    },
    {
      "cell_type": "markdown",
      "source": [
        "## 7. Train"
      ],
      "metadata": {
        "id": "AKWZZBWqsVFH"
      }
    },
    {
      "cell_type": "code",
      "source": [
        "total_loss = [] # loss를 저장하기 위한 리스트\n",
        "\n",
        "for epoch in range(num_epochs): # 매 학습 횟수마다\n",
        "  epoch_loss = []\n",
        "  for idx, (images, labels) in enumerate(train_loader): # 매번 batch_size마다\n",
        "    images = images.to(device)\n",
        "    labels = labels.to(device)\n",
        "\n",
        "    # Forward\n",
        "    outputs = model(images)\n",
        "\n",
        "    optimizer.zero_grad()\n",
        "    loss = criterion(outputs, labels)\n",
        "    loss.backward()\n",
        "    optimizer.step()\n",
        "\n",
        "    epoch_loss.append(loss.detach().cpu().numpy())\n",
        "\n",
        "  print(\"Epoch [{}/{}], Loss : {:.4f}\".format(epoch+1, num_epochs, loss))\n",
        "  total_loss.append(np.mean(epoch_loss))\n",
        "\n",
        "torch.save(model.state_dict(), 'model.pth') # 학습이 끝나고 나면 모델을 pth 파일로 저장"
      ],
      "metadata": {
        "id": "juKoEL7SsWD4",
        "colab": {
          "base_uri": "https://localhost:8080/"
        },
        "outputId": "f81d4452-8d30-4c90-be07-31b2012551d7"
      },
      "execution_count": 14,
      "outputs": [
        {
          "output_type": "stream",
          "name": "stdout",
          "text": [
            "Epoch [1/20], Loss : 0.9881\n",
            "Epoch [2/20], Loss : 0.7911\n",
            "Epoch [3/20], Loss : 0.8555\n",
            "Epoch [4/20], Loss : 0.3701\n",
            "Epoch [5/20], Loss : 1.0318\n",
            "Epoch [6/20], Loss : 0.8121\n",
            "Epoch [7/20], Loss : 0.4402\n",
            "Epoch [8/20], Loss : 0.2990\n",
            "Epoch [9/20], Loss : 0.4722\n",
            "Epoch [10/20], Loss : 0.4145\n",
            "Epoch [11/20], Loss : 0.2398\n",
            "Epoch [12/20], Loss : 0.5190\n",
            "Epoch [13/20], Loss : 0.5234\n",
            "Epoch [14/20], Loss : 0.1100\n",
            "Epoch [15/20], Loss : 0.2822\n",
            "Epoch [16/20], Loss : 0.0589\n",
            "Epoch [17/20], Loss : 0.2089\n",
            "Epoch [18/20], Loss : 0.4706\n",
            "Epoch [19/20], Loss : 0.2048\n",
            "Epoch [20/20], Loss : 0.3538\n"
          ]
        }
      ]
    },
    {
      "cell_type": "markdown",
      "source": [
        "## 8. Visualization"
      ],
      "metadata": {
        "id": "4I1SbXGwsWYR"
      }
    },
    {
      "cell_type": "code",
      "source": [
        "plt.plot(total_loss)\n",
        "plt.title(\"CIFAR10 CNN Loss graph\")\n",
        "plt.show()"
      ],
      "metadata": {
        "id": "cRzuwcTJsXEJ",
        "colab": {
          "base_uri": "https://localhost:8080/",
          "height": 452
        },
        "outputId": "318e99ef-814a-4011-93b8-d0e9fbcaef2f"
      },
      "execution_count": 15,
      "outputs": [
        {
          "output_type": "display_data",
          "data": {
            "text/plain": [
              "<Figure size 640x480 with 1 Axes>"
            ],
            "image/png": "[encoded data removed]"
          },
          "metadata": {}
        }
      ]
    },
    {
      "cell_type": "markdown",
      "source": [
        "## 9. Test & Accuracy"
      ],
      "metadata": {
        "id": "lwLUysAIesYy"
      }
    },
    {
      "cell_type": "code",
      "source": [
        "model.eval() # Set model as evaluation mode\n",
        "\n",
        "with torch.no_grad(): # auto_grad off\n",
        "  correct = 0\n",
        "  total = 0\n",
        "  for images, labels in test_loader:\n",
        "    images = images.to(device)\n",
        "    labels = labels.to(device)\n",
        "    outputs = model(images)\n",
        "    _, predicted = torch.max(outputs.data, 1)\n",
        "\n",
        "    total += labels.size(0)\n",
        "    correct += (predicted == labels).sum().item()\n",
        "\n",
        "  print('Accuracy of the network on the {} test images {}%'.format(len(test_loader)*batch_size, 100*correct/total))"
      ],
      "metadata": {
        "colab": {
          "base_uri": "https://localhost:8080/"
        },
        "id": "cDgjZ73_et9b",
        "outputId": "73c329c4-30b7-44c4-9eed-d4b0ab01fabd"
      },
      "execution_count": 16,
      "outputs": [
        {
          "output_type": "stream",
          "name": "stdout",
          "text": [
            "Accuracy of the network on the 10048 test images 73.88%\n"
          ]
        }
      ]
    }
  ]
}