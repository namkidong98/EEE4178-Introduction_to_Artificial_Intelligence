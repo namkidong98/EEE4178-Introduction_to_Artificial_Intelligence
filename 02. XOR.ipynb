{
  "cells": [
    {
      "cell_type": "code",
      "execution_count": 1,
      "metadata": {
        "id": "0EBa9el5utjS"
      },
      "outputs": [],
      "source": [
        "# 필요한 라이브러리 import\n",
        "import numpy as np\n",
        "import torch\n",
        "import torch.nn as nn           # PyTorch에서 신경망을 구축하는 데 사용되는 모듈의 집합을 제공하는 패키지\n",
        "import matplotlib.pyplot as plt # 시각화"
      ]
    },
    {
      "cell_type": "markdown",
      "metadata": {
        "id": "vbzpxKvsvj-6"
      },
      "source": [
        "1. Module 클래스   \n",
        "torch.nn.Module : 모든 신경망 모듈의 기본 클래스로 사용자가 정의한 신경망 모델은 이 클래스를 상속받아야 한다\n",
        "\n",
        "2. 레이어 (Layers)\n",
        "torch.nn.Linear() : fully connected layer를 나타냄   \n",
        "torch.nn.Conv2d() : 합성곱 레이어를 나타냄   \n",
        "\n",
        "3. 손실 함수 (Loss Functions)   \n",
        "torch.nn.MSELoss() : Mean Squared Error Loss   \n",
        "torch.nn.CrossEntropyLoss() : Cross-Entropy Loss\n",
        "\n",
        "4. 가중치 초기화 (Initialization)   \n",
        "torch.nn.init.xavier_uniform_(module.weight) : 가중치를 균등하게 분포, 주로 tanh 활성화 함수를 사용   \n",
        "torch.nn.init.normal_ : 가중치를 정규 분포로 초기화, 주로 ReLU 활성화 함수와 함께 사용\n",
        "\n",
        "5. 활성화 함수 (Activiation Function)\n",
        "torch.nn.ReLU() : 음수 입력을 0으로 변환하고 양수 입력을 그대로 반환하는 간단한 비선형 활성화 함수         \n",
        "torch.nn.Sigmoid() : 0과 1 사이의 값으로 압축, 이진 분류 문제에서 출력을 확률로 해석   \n",
        "torch.nn.Tanh() : Sigmoid와 유사하지만 [-1, 1] 사이의 값으로 변환   \n",
        "torch.nn.Softmax(dim=1) : 다중 클래스 분류 문제에서 사용되며, 입력 벡터를 확률 분포로 변환(dim은 적용할 차원 설정)   \n",
        "\n",
        "- cf) 최적화 (Optimizers)   \n",
        "torch.optim.SGD(model.parameters(), lr=0.01) : 확률적 경사하강법   \n",
        "torch.optim.Adam(model.parameters(), lr=0.001) : 아담 옵티마이저\n"
      ]
    },
    {
      "cell_type": "code",
      "execution_count": 2,
      "metadata": {
        "id": "MkoIHhyXutbt"
      },
      "outputs": [],
      "source": [
        "x = torch.tensor([[0.,0.],[0.,1.], [1.,0.], [1.,1.]])\n",
        "y = torch.tensor([0.,1.,1.,0.]).view(-1,1) # 4행 1열로 reshape"
      ]
    },
    {
      "cell_type": "code",
      "execution_count": 3,
      "metadata": {
        "colab": {
          "base_uri": "https://localhost:8080/"
        },
        "id": "YbQIFokCutWU",
        "outputId": "536fe27c-d6d7-4f7a-bae9-294e647df8a5"
      },
      "outputs": [
        {
          "data": {
            "text/plain": [
              "(tensor([[0., 0.],\n",
              "         [0., 1.],\n",
              "         [1., 0.],\n",
              "         [1., 1.]]),\n",
              " tensor([[0.],\n",
              "         [1.],\n",
              "         [1.],\n",
              "         [0.]]))"
            ]
          },
          "execution_count": 3,
          "metadata": {},
          "output_type": "execute_result"
        }
      ],
      "source": [
        "x, y"
      ]
    },
    {
      "cell_type": "code",
      "execution_count": 4,
      "metadata": {
        "id": "3986suEAESXA"
      },
      "outputs": [],
      "source": [
        "class XORnet(nn.Module):\n",
        "  def __init__(self):\n",
        "    super(XORnet, self).__init__() # 상위 클래스, 즉 nn.Module을 상속 받는다\n",
        "    self.layer1 = nn.Sequential(\n",
        "        nn.Linear(2, 1),  # input이 2, output이 1\n",
        "        nn.Sigmoid()\n",
        "    )\n",
        "    self.layer2 = nn.Sequential(\n",
        "        nn.Linear(2, 3),  # input이 2, hidden layer가 3\n",
        "        nn.Sigmoid(),\n",
        "        nn.Linear(3, 1),  # input이 3, output이 1\n",
        "        nn.Sigmoid()\n",
        "    )\n",
        "\n",
        "  def forward(self, input, num_layer):\n",
        "    if num_layer == 1:\n",
        "      out = self.layer1(input)\n",
        "    elif num_layer == 2:\n",
        "      out = self.layer2(input)\n",
        "    else:\n",
        "      print(\"Out of range\")\n",
        "      raise\n",
        "    return out"
      ]
    },
    {
      "cell_type": "code",
      "execution_count": 5,
      "metadata": {
        "id": "r7v9uzG0zXnH"
      },
      "outputs": [],
      "source": [
        "model = XORnet() # 설계한 모델의 객체를 생성"
      ]
    },
    {
      "cell_type": "code",
      "execution_count": 6,
      "metadata": {
        "colab": {
          "base_uri": "https://localhost:8080/"
        },
        "id": "pAmywoGVzf0z",
        "outputId": "ceb8f382-8d27-4d3b-def2-3e44594a54be"
      },
      "outputs": [
        {
          "name": "stdout",
          "output_type": "stream",
          "text": [
            "XORnet(\n",
            "  (layer1): Sequential(\n",
            "    (0): Linear(in_features=2, out_features=1, bias=True)\n",
            "    (1): Sigmoid()\n",
            "  )\n",
            "  (layer2): Sequential(\n",
            "    (0): Linear(in_features=2, out_features=3, bias=True)\n",
            "    (1): Sigmoid()\n",
            "    (2): Linear(in_features=3, out_features=1, bias=True)\n",
            "    (3): Sigmoid()\n",
            "  )\n",
            ")\n"
          ]
        }
      ],
      "source": [
        "print(model) # 모델과 파라미터들의 정보를 확인 가능"
      ]
    },
    {
      "cell_type": "code",
      "execution_count": 7,
      "metadata": {
        "id": "u7-aG8pUzgta"
      },
      "outputs": [],
      "source": [
        "# Hyper-Parameter\n",
        "learning_rate = 0.05  # step size 설정\n",
        "epochs = 10000        # 학습 횟수 설정\n",
        "\n",
        "# Cost function\n",
        "criterion = nn.MSELoss() # cost function으로 MSE를 사용\n",
        "\n",
        "# Optimizer\n",
        "optimizer = torch.optim.SGD(model.parameters(), lr = learning_rate) # 확률적 경사하강법(SGD)를 최적화 모델로 사용"
      ]
    },
    {
      "cell_type": "code",
      "execution_count": 8,
      "metadata": {
        "colab": {
          "base_uri": "https://localhost:8080/"
        },
        "id": "KSZbnLJF0BYh",
        "outputId": "04483ffa-f645-47bf-dec5-a1c26f29293c"
      },
      "outputs": [
        {
          "name": "stdout",
          "output_type": "stream",
          "text": [
            "Epoch [1/10000] Loss1: 0.0911 Loss2: 0.2179\n",
            "Epoch [501/10000] Loss1: 0.2538 Loss2: 0.2514\n",
            "Epoch [1001/10000] Loss1: 0.2532 Loss2: 0.2595\n",
            "Epoch [1501/10000] Loss1: 0.2532 Loss2: 0.2760\n",
            "Epoch [2001/10000] Loss1: 0.2532 Loss2: 0.3062\n",
            "Epoch [2501/10000] Loss1: 0.2532 Loss2: 0.3339\n",
            "Epoch [3001/10000] Loss1: 0.2532 Loss2: 0.2882\n",
            "Epoch [3501/10000] Loss1: 0.2532 Loss2: 0.1731\n",
            "Epoch [4001/10000] Loss1: 0.2532 Loss2: 0.0830\n",
            "Epoch [4501/10000] Loss1: 0.2532 Loss2: 0.0439\n",
            "Epoch [5001/10000] Loss1: 0.2532 Loss2: 0.0272\n",
            "Epoch [5501/10000] Loss1: 0.2532 Loss2: 0.0188\n",
            "Epoch [6001/10000] Loss1: 0.2532 Loss2: 0.0141\n",
            "Epoch [6501/10000] Loss1: 0.2532 Loss2: 0.0111\n",
            "Epoch [7001/10000] Loss1: 0.2532 Loss2: 0.0091\n",
            "Epoch [7501/10000] Loss1: 0.2532 Loss2: 0.0076\n",
            "Epoch [8001/10000] Loss1: 0.2532 Loss2: 0.0066\n",
            "Epoch [8501/10000] Loss1: 0.2532 Loss2: 0.0057\n",
            "Epoch [9001/10000] Loss1: 0.2532 Loss2: 0.0051\n",
            "Epoch [9501/10000] Loss1: 0.2532 Loss2: 0.0045\n",
            "Epoch [10000/10000] Loss1: 0.2532 Loss2: 0.0041\n"
          ]
        }
      ],
      "source": [
        "error1 = []\n",
        "error2 = []\n",
        "\n",
        "for epoch in range(epochs): # 각 학습에 대해\n",
        "  for i, (input, ans) in enumerate(zip(x, y)): # zip으로 x와 y에서 동일한 인덱스 위치의 값을 묶어서 함께 사용\n",
        "\n",
        "    # 서로 다른 layer 개수에 따라 모델을 통해 예측값(output)을 산출\n",
        "    output1 = model(input, 1) # 1 layer output\n",
        "    output2 = model(input, 2) # 2 layer output\n",
        "\n",
        "    # 예측값(output)과 실제값(ans)을 cost function에 넣어서 loss 계산\n",
        "    loss1 = criterion(output1, ans)\n",
        "    loss2 = criterion(output2, ans)\n",
        "\n",
        "    # gradient를 초기화\n",
        "    optimizer.zero_grad()\n",
        "\n",
        "    # 각각의 손실에 대한 역전파(propagation)을 수행하여 gradient 계산\n",
        "    loss1.backward()\n",
        "    loss2.backward()\n",
        "\n",
        "    # optimizer을 사용하여 gradient를 업데이트\n",
        "    optimizer.step()\n",
        "\n",
        "    # detach는 gradient 계산을 중지하고 텐서를 복사하는데 사용\n",
        "    error1.append(loss1.detach().numpy())\n",
        "    error2.append(loss2.detach().numpy())\n",
        "\n",
        "  if epoch % 500 == 0 or (epoch+1)==epochs:\n",
        "    print('Epoch [{}/{}] Loss1: {:.4f} Loss2: {:.4f}'.format(epoch+1, epochs, loss1, loss2))\n"
      ]
    },
    {
      "cell_type": "markdown",
      "metadata": {
        "id": "Xdl8Txyg6LqA"
      },
      "source": [
        "1개의 layer를 사용하는 경우에는 loss가 줄어들지 않지만   \n",
        "2개의 layer를 사용하는 경우에는 epoch이 늘어남에 따라 loss가 줄어드는 것을 확인할 수 있다   \n",
        "이는 XOR의 연산은 1개의 선으로 분류해낼 수 없기 때문이다.(적어도 2개의 선으로 구분해야 XOR 연산이 가능하다)   "
      ]
    },
    {
      "cell_type": "code",
      "execution_count": 16,
      "metadata": {
        "colab": {
          "base_uri": "https://localhost:8080/",
          "height": 468
        },
        "id": "F8z2l46f4OVu",
        "outputId": "a408649d-3176-4161-d40a-af9369a1792c"
      },
      "outputs": [
        {
          "data": {
            "image/png": "[encoded data removed]",
            "text/plain": [
              "<Figure size 1500x500 with 2 Axes>"
            ]
          },
          "metadata": {},
          "output_type": "display_data"
        }
      ],
      "source": [
        "plt.figure(figsize=(15,5))\n",
        "\n",
        "plt.subplot(1,2,1)\n",
        "plt.plot(error1)\n",
        "plt.title(\"Layer1 error\")\n",
        "\n",
        "plt.subplot(1,2,2)\n",
        "plt.plot(error2)\n",
        "plt.title(\"Layer2 error\")\n",
        "plt.show()"
      ]
    },
    {
      "cell_type": "code",
      "execution_count": 19,
      "metadata": {
        "colab": {
          "base_uri": "https://localhost:8080/"
        },
        "id": "Ly5qhTDu6kp7",
        "outputId": "46f9af90-6009-4697-b9b1-38cea8aea4be"
      },
      "outputs": [
        {
          "name": "stdout",
          "output_type": "stream",
          "text": [
            "input:  tensor([0., 0.]) layer1:  tensor([0.5031]) \tlayer2:  tensor([0.0454]) \tanswer: tensor([0.])\n",
            "input:  tensor([0., 1.]) layer1:  tensor([0.5000]) \tlayer2:  tensor([0.9475]) \tanswer: tensor([1.])\n",
            "input:  tensor([1., 0.]) layer1:  tensor([0.4969]) \tlayer2:  tensor([0.9513]) \tanswer: tensor([1.])\n",
            "input:  tensor([1., 1.]) layer1:  tensor([0.4937]) \tlayer2:  tensor([0.0641]) \tanswer: tensor([0.])\n"
          ]
        }
      ],
      "source": [
        "# Test after train (Sigmoid, MSELoss)\n",
        "for input, target in zip (x, y):\n",
        "  output1 = model(input,1)\n",
        "  output2 = model(input,2)\n",
        "  print(\"input: \",input, \"layer1: \", output1.data, \"\\tlayer2: \", output2.data, \"\\tanswer:\", target)"
      ]
    },
    {
      "cell_type": "markdown",
      "metadata": {
        "id": "DNQFko6D6pF9"
      },
      "source": [
        "1. 테스트 결과를 보면, 우선 output은 sigmoid 활성화 함수를 거쳐서 나오기 때문에 0에서 1 사이의 값으로 나온다    \n",
        "\n",
        "2. layer1의 경우 0.5로 loss가 유지되어 학습이 되지 않은 것을 확인할 수 있다   \n",
        "\n",
        "3. layer2의 경우 실제값(ans)가 1인 경우 1에 가까운 출력(output2, 예측값)이 나오고 반대로 실제값이 0인 경우 0에 가까운 출력이 나오는 것을 확인할 수 있다. 즉, 학습이 된 것이다"
      ]
    },
    {
      "cell_type": "code",
      "execution_count": 17,
      "metadata": {
        "id": "RK5QZRa05ee_"
      },
      "outputs": [],
      "source": [
        "torch.save(model.state_dict(), 'my_model.pth') # pth파일은 모델의 구조와 필요한 파라미터들이 저장된다\n",
        "                                               # 모델의 학습된 정보를 load해서 나중에 사용할 수 있다"
      ]
    },
    {
      "cell_type": "code",
      "execution_count": 18,
      "metadata": {
        "colab": {
          "base_uri": "https://localhost:8080/"
        },
        "id": "6U22Hftf5sL3",
        "outputId": "6b9137c9-a3f4-4d4f-c333-5912dff0b5c9"
      },
      "outputs": [
        {
          "name": "stdout",
          "output_type": "stream",
          "text": [
            "my_model.pth  sample_data\n"
          ]
        }
      ],
      "source": [
        "import os\n",
        "!ls # my_model.pth가 저장된 것을 확인할 수 있다"
      ]
    }
  ],
  "metadata": {
    "accelerator": "GPU",
    "colab": {
      "gpuType": "T4",
      "provenance": []
    },
    "kernelspec": {
      "display_name": "Python 3",
      "name": "python3"
    },
    "language_info": {
      "name": "python"
    }
  },
  "nbformat": 4,
  "nbformat_minor": 0
}
