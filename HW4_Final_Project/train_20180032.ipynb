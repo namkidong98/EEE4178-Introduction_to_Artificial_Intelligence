{
  "cells": [
    {
      "cell_type": "markdown",
      "metadata": {
        "id": "MMHQHnrNI84z"
      },
      "source": [
        "# 데이터 관련"
      ]
    },
    {
      "cell_type": "code",
      "execution_count": 1,
      "metadata": {
        "id": "WPoZFHnKRg2s"
      },
      "outputs": [],
      "source": [
        "# import modules\n",
        "import torch\n",
        "import torchvision\n",
        "import torch.nn as nn\n",
        "import torch.nn.functional as F\n",
        "from torch.utils.data import Dataset\n",
        "from torchvision import models, transforms\n",
        "\n",
        "import matplotlib.pyplot as plt\n",
        "import random\n",
        "import time\n",
        "import os\n",
        "\n",
        "import numpy as np"
      ]
    },
    {
      "cell_type": "markdown",
      "metadata": {
        "id": "-Bbp4RkvjOwD"
      },
      "source": [
        "###  Google Drive Mount"
      ]
    },
    {
      "cell_type": "markdown",
      "metadata": {
        "id": "imv-Mwjxt6T_"
      },
      "source": [
        "![image.png](data:image/png;base64,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)"
      ]
    },
    {
      "cell_type": "code",
      "execution_count": 2,
      "metadata": {
        "colab": {
          "base_uri": "https://localhost:8080/"
        },
        "id": "3bB65k_VUBpB",
        "outputId": "f52c8d58-59e6-4c4b-9cc7-7dc4b61b2d64"
      },
      "outputs": [
        {
          "name": "stdout",
          "output_type": "stream",
          "text": [
            "Drive already mounted at /content/gdrive; to attempt to forcibly remount, call drive.mount(\"/content/gdrive\", force_remount=True).\n"
          ]
        }
      ],
      "source": [
        "# mount google drive\n",
        "from google.colab import drive\n",
        "drive.mount('/content/gdrive')"
      ]
    },
    {
      "cell_type": "markdown",
      "metadata": {
        "id": "0OO8AwqKjbDp"
      },
      "source": [
        "### Unzip dataset\n",
        "- 구글 드라이브에 데이터를 저장할 시 I/O 병목으로 인해 train 속도가 느릴 수 있습니다.\n",
        "- 코랩의 content 디렉토리 아래에 데이터의 압축을 풀어 사용하시기 바랍니다"
      ]
    },
    {
      "cell_type": "code",
      "execution_count": 3,
      "metadata": {
        "colab": {
          "base_uri": "https://localhost:8080/"
        },
        "id": "Y0jBanPeKWka",
        "outputId": "0a3e2f5d-e74d-4058-805a-314d8a6076ae"
      },
      "outputs": [
        {
          "name": "stdout",
          "output_type": "stream",
          "text": [
            "Archive:  /content/gdrive/MyDrive/2023_EEE4178_project/train.zip\n",
            "replace train/30/395_30.npy? [y]es, [n]o, [A]ll, [N]one, [r]ename: Archive:  /content/gdrive/MyDrive/2023_EEE4178_project/valid.zip\n",
            "replace valid/30/244_30.npy? [y]es, [n]o, [A]ll, [N]one, [r]ename: "
          ]
        }
      ],
      "source": [
        "# unzip train, valid dataset\n",
        "# target 을 정하지 않으면 google drive 내의 content 드라이브에 위치시킴\n",
        "# 런타임을 다시 시작할 때 마다 unzip 을 새로 해주어야 함.\n",
        "!unzip /content/gdrive/MyDrive/2023_EEE4178_project/train.zip\n",
        "!unzip /content/gdrive/MyDrive/2023_EEE4178_project/valid.zip\n",
        "# !unzip /content/gdrive/MyDrive/Project_dataset/Font_npy_100_test.zip"
      ]
    },
    {
      "cell_type": "markdown",
      "metadata": {
        "id": "QOJTByoijtHF"
      },
      "source": [
        "### Custom dataset & dataloader"
      ]
    },
    {
      "cell_type": "markdown",
      "metadata": {
        "id": "xlH-hIVmF_7z"
      },
      "source": [
        "![image.png](data:image/png;base64,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)"
      ]
    },
    {
      "cell_type": "code",
      "execution_count": 4,
      "metadata": {
        "colab": {
          "base_uri": "https://localhost:8080/"
        },
        "id": "qUeJiEDvTY-r",
        "outputId": "013c8e4c-f9bf-4730-b255-4e05a7ebb984"
      },
      "outputs": [
        {
          "name": "stdout",
          "output_type": "stream",
          "text": [
            "41600\n",
            "15600\n"
          ]
        }
      ],
      "source": [
        "import os\n",
        "import glob\n",
        "import numpy as np\n",
        "import torch\n",
        "from torch.utils.data import Dataset\n",
        "from torchvision import transforms\n",
        "import matplotlib.pyplot as plt\n",
        "import torchvision.transforms.functional as TF\n",
        "\n",
        "class MyDataset(Dataset):\n",
        "    def __init__(self, npy_dir, label_dict=None):\n",
        "        self.dir_path = npy_dir\n",
        "        self.to_tensor = transforms.Compose([\n",
        "            transforms.ToTensor(),\n",
        "            transforms.Lambda(lambda x: x.transpose(0, 1)),\n",
        "            transforms.Lambda(lambda x: TF.rotate(x, -90))\n",
        "        ])\n",
        "        self.npy_path = glob.glob(os.path.join(npy_dir, '*', '*.npy'))\n",
        "        self.label_dict = label_dict or self.create_label_dict()\n",
        "\n",
        "    def create_label_dict(self):\n",
        "        label_dict = {}\n",
        "        for path in self.npy_path:\n",
        "            label_name = os.path.basename(os.path.dirname(path))\n",
        "            if label_name not in label_dict:\n",
        "                label_dict[label_name] = len(label_dict)\n",
        "        return label_dict\n",
        "\n",
        "    def __getitem__(self, index):\n",
        "        single_data_path = self.npy_path[index]\n",
        "        data = np.load(single_data_path, allow_pickle=True)\n",
        "\n",
        "        image = data['image']\n",
        "        image = self.to_tensor(image)\n",
        "        image = TF.hflip(image)\n",
        "\n",
        "        label_name = os.path.basename(os.path.dirname(single_data_path))\n",
        "        label = self.label_dict[label_name]\n",
        "        label = torch.tensor(label, dtype=torch.long)\n",
        "\n",
        "        return (image, label)\n",
        "\n",
        "    def __len__(self):\n",
        "        return len(self.npy_path)\n",
        "\n",
        "label_dict = {\n",
        "    '30': 0, '31': 1, '32': 2, '33': 3, '34': 4, '35': 5, '36': 6, '37': 7, '38': 8, '39': 9,\n",
        "    '41': 10, '42': 11, '43': 12, '44': 13, '45': 14, '46': 15, '47': 16, '48': 17, '49': 18,\n",
        "    '4a': 19, '4b': 20, '4c': 21, '4d': 22, '4e': 23, '50': 24, '51': 25, '52': 26, '53': 27,\n",
        "    '54': 28, '55': 29, '56': 30, '57': 31, '58': 32, '59': 33, '5a': 34, '61': 35, '62': 36,\n",
        "    '64': 37, '65': 38, '66': 39, '67': 40, '68': 41, '69': 42, '6a': 43, '6d': 44, '6e': 45,\n",
        "    '6f': 46, '71': 47, '72': 48, '74': 49, '75': 50, '79': 51,\n",
        "}\n",
        "\n",
        "# unzip 한 디렉토리 있는 path 그대로 넣어야, 디렉토리 옆 점 3개 누르면 '경로 복사' 있음 - 위의 사진 참조\n",
        "train_data = MyDataset(\"/content/train\", label_dict)\n",
        "valid_data = MyDataset(\"/content/valid\", label_dict)\n",
        "\n",
        "print(len(train_data))\n",
        "print(len(valid_data))"
      ]
    },
    {
      "cell_type": "code",
      "execution_count": 5,
      "metadata": {
        "colab": {
          "base_uri": "https://localhost:8080/"
        },
        "id": "GtRmxsFlTZ-X",
        "outputId": "3b6804c2-129a-4bd9-b4cb-d4d299900f2f"
      },
      "outputs": [
        {
          "name": "stdout",
          "output_type": "stream",
          "text": [
            "torch.Size([50, 1, 100, 100])\n",
            "torch.Size([50])\n"
          ]
        }
      ],
      "source": [
        "batch_size = 50\n",
        "train_loader = torch.utils.data.DataLoader(dataset=train_data,\n",
        "                                           batch_size=batch_size,\n",
        "                                           shuffle=True)\n",
        "\n",
        "valid_loader = torch.utils.data.DataLoader(dataset=valid_data,\n",
        "                                           batch_size=batch_size,\n",
        "                                           shuffle=True)\n",
        "\n",
        "# check dataloader\n",
        "image,label = next(iter(valid_loader))\n",
        "print(image.shape)\n",
        "print(label.shape)"
      ]
    },
    {
      "cell_type": "code",
      "execution_count": 6,
      "metadata": {
        "colab": {
          "base_uri": "https://localhost:8080/",
          "height": 165
        },
        "id": "Vgkv5vbrTbzH",
        "outputId": "a70b08a9-c9cd-4a1b-a6f6-76a306d5681a"
      },
      "outputs": [
        {
          "data": {
            "image/png": "[encoded data removed]",
            "text/plain": [
              "<Figure size 1000x1000 with 8 Axes>"
            ]
          },
          "metadata": {},
          "output_type": "display_data"
        }
      ],
      "source": [
        "# visualize data\n",
        "# image_show function : num 수 만큼 dataset 내의 data를 보여주는 함수\n",
        "def image_show(dataset, num):\n",
        "  fig = plt.figure(figsize=(10,10))\n",
        "\n",
        "  for i in range(num):\n",
        "    plt.subplot(1, num, i+1)\n",
        "    plt.imshow(dataset[i+12200][0].squeeze(), cmap=\"gray\")\n",
        "    plt.title(dataset[i+12200][1].item())  # .item()을 사용하여 텐서에서 숫자로 변환\n",
        "\n",
        "image_show(train_data, 8)"
      ]
    },
    {
      "cell_type": "markdown",
      "metadata": {
        "id": "i42YxYfmJDW0"
      },
      "source": [
        "#학습 환경 관련\n"
      ]
    },
    {
      "cell_type": "markdown",
      "metadata": {
        "id": "rILeeNKTj-29"
      },
      "source": [
        "### Check GPU Configuration"
      ]
    },
    {
      "cell_type": "code",
      "execution_count": 7,
      "metadata": {
        "colab": {
          "base_uri": "https://localhost:8080/"
        },
        "id": "nnNB9hj9PchN",
        "outputId": "8c6e827d-48e7-4602-a7b8-f12ac111a35a"
      },
      "outputs": [
        {
          "name": "stdout",
          "output_type": "stream",
          "text": [
            "Fri Dec 15 07:39:49 2023       \n",
            "+---------------------------------------------------------------------------------------+\n",
            "| NVIDIA-SMI 535.104.05             Driver Version: 535.104.05   CUDA Version: 12.2     |\n",
            "|-----------------------------------------+----------------------+----------------------+\n",
            "| GPU  Name                 Persistence-M | Bus-Id        Disp.A | Volatile Uncorr. ECC |\n",
            "| Fan  Temp   Perf          Pwr:Usage/Cap |         Memory-Usage | GPU-Util  Compute M. |\n",
            "|                                         |                      |               MIG M. |\n",
            "|=========================================+======================+======================|\n",
            "|   0  Tesla T4                       Off | 00000000:00:04.0 Off |                    0 |\n",
            "| N/A   38C    P8               9W /  70W |      3MiB / 15360MiB |      0%      Default |\n",
            "|                                         |                      |                  N/A |\n",
            "+-----------------------------------------+----------------------+----------------------+\n",
            "                                                                                         \n",
            "+---------------------------------------------------------------------------------------+\n",
            "| Processes:                                                                            |\n",
            "|  GPU   GI   CI        PID   Type   Process name                            GPU Memory |\n",
            "|        ID   ID                                                             Usage      |\n",
            "|=======================================================================================|\n",
            "|  No running processes found                                                           |\n",
            "+---------------------------------------------------------------------------------------+\n"
          ]
        }
      ],
      "source": [
        "# device configuration\n",
        "device = torch.device('cuda' if torch.cuda.is_available() else 'cpu')\n",
        "!nvidia-smi"
      ]
    },
    {
      "cell_type": "markdown",
      "metadata": {
        "id": "G2nx3PPjujWj"
      },
      "source": [
        "### Fix seed\n",
        "42로 Seed를 고정하여 사용하시기 바랍니다."
      ]
    },
    {
      "cell_type": "code",
      "execution_count": 8,
      "metadata": {
        "id": "6a12HKrkkjYk"
      },
      "outputs": [],
      "source": [
        "# FIX SEED\n",
        "def seed_everything(seed: int = 42):\n",
        "    random.seed(seed)\n",
        "    np.random.seed(seed)\n",
        "    os.environ[\"PYTHONHASHSEED\"] = str(seed)\n",
        "    torch.manual_seed(seed)\n",
        "    torch.cuda.manual_seed(seed)  # type: ignore\n",
        "    torch.backends.cudnn.deterministic = True  # type: ignore\n",
        "    torch.backends.cudnn.benchmark = True  # type: ignore\n",
        "\n",
        "seed_everything(42)"
      ]
    },
    {
      "cell_type": "code",
      "execution_count": 10,
      "metadata": {
        "colab": {
          "base_uri": "https://localhost:8080/"
        },
        "id": "LcT3wvxC-JhL",
        "outputId": "203d4594-dcf0-4bbd-da04-a9881b87b8b3"
      },
      "outputs": [
        {
          "name": "stdout",
          "output_type": "stream",
          "text": [
            "device: cuda\n"
          ]
        }
      ],
      "source": [
        "# Device Configuration\n",
        "device = torch.device('cuda' if torch.cuda.is_available() else 'cpu')\n",
        "print(f\"device: {device}\")\n",
        "\n",
        "# Adjust Model Structure Depends on the Data\n",
        "num_classes = 52  # 0~51 : 52 classes\n",
        "in_channel = 1    # 흑백 이미지이니 in_channel은 1\n",
        "\n",
        "# Hyper-parameters\n",
        "batch_size = 50\n",
        "learning_rate = 0.0001\n",
        "num_epochs = 12"
      ]
    },
    {
      "cell_type": "code",
      "execution_count": 27,
      "metadata": {
        "id": "7qdE7xtJ9imV"
      },
      "outputs": [],
      "source": [
        "class ConvNet(nn.Module):\n",
        "  def __init__(self, num_classes=52):\n",
        "    super(ConvNet, self).__init__()\n",
        "\n",
        "    self.layer1 = nn.Sequential(\n",
        "        nn.Conv2d(1, 32, 5, 1, 2), # 1x100x100 --> 32x100x100\n",
        "        nn.BatchNorm2d(32),\n",
        "        nn.ReLU(),\n",
        "        nn.MaxPool2d(kernel_size=2) # 32x100x100 --> 32x50x50\n",
        "    )\n",
        "    self.layer2 = nn.Sequential( # 32x50x50 --> 64x50x50\n",
        "        nn.Conv2d(32, 16, 1, 1, 0), # Bottleneck layer(차원 축소)\n",
        "        nn.BatchNorm2d(16),\n",
        "        nn.ReLU(),\n",
        "\n",
        "        nn.Conv2d(16, 16, 5, 1, 2),\n",
        "        nn.BatchNorm2d(16),\n",
        "        nn.ReLU(),\n",
        "        nn.Conv2d(16, 64, 1, 1, 0),\n",
        "        nn.BatchNorm2d(64),\n",
        "        nn.ReLU(),\n",
        "        nn.MaxPool2d(kernel_size=2) # 64x25x25\n",
        "    )\n",
        "    self.layer3 = nn.Sequential(\n",
        "        nn.Conv2d(64, 32, 1, 1, 0),\n",
        "        nn.BatchNorm2d(32),\n",
        "        nn.ReLU(),\n",
        "\n",
        "        nn.Conv2d(32, 32, 5, 1, 2),\n",
        "        nn.BatchNorm2d(32),\n",
        "        nn.ReLU(),\n",
        "        nn.Conv2d(32, 128, 1, 1, 0),\n",
        "        nn.BatchNorm2d(128),\n",
        "        nn.ReLU(),\n",
        "        nn.MaxPool2d(kernel_size=5) # 128x5x5\n",
        "    )\n",
        "    self.fc1 = nn.Linear(128*5*5, 100)\n",
        "    self.fc2 = nn.Linear(100, num_classes)\n",
        "\n",
        "    self.dropout = nn.Dropout(0.4)\n",
        "\n",
        "  def forward(self, x):\n",
        "    x = self.layer1(x)\n",
        "    x = self.layer2(x)\n",
        "    x = self.layer3(x)\n",
        "    x = x.reshape(x.size(0), -1)\n",
        "\n",
        "    x = self.dropout(x)\n",
        "    x = self.fc1(x)\n",
        "    x = F.relu(x)\n",
        "    x = self.dropout(x)\n",
        "    x = self.fc2(x)\n",
        "    x = F.relu(x)\n",
        "\n",
        "    return x"
      ]
    },
    {
      "cell_type": "code",
      "execution_count": 28,
      "metadata": {
        "id": "4edWy1LiEBTH"
      },
      "outputs": [],
      "source": [
        "model = ConvNet().to(device)\n",
        "criterion = nn.CrossEntropyLoss()\n",
        "optimizer = torch.optim.Adam(model.parameters(), lr=learning_rate) # Adam optimizer 이용"
      ]
    },
    {
      "cell_type": "code",
      "execution_count": 29,
      "metadata": {
        "colab": {
          "base_uri": "https://localhost:8080/"
        },
        "id": "uzFffwOHEWCT",
        "outputId": "c818e52c-2225-407c-923a-ef9aaccbb5e9"
      },
      "outputs": [
        {
          "name": "stdout",
          "output_type": "stream",
          "text": [
            "Epoch [1/12], Step [832/832], Loss: 1.0362\n",
            "epoch1 loss: 2.3649892807006836\n",
            "Epoch [2/12], Step [832/832], Loss: 0.5041\n",
            "epoch2 loss: 0.644256591796875\n",
            "Epoch [3/12], Step [832/832], Loss: 0.7406\n",
            "epoch3 loss: 0.38396379351615906\n",
            "Epoch [4/12], Step [832/832], Loss: 0.3293\n",
            "epoch4 loss: 0.27926933765411377\n",
            "Epoch [5/12], Step [832/832], Loss: 0.1869\n",
            "epoch5 loss: 0.22626471519470215\n",
            "Epoch [6/12], Step [832/832], Loss: 0.1335\n",
            "epoch6 loss: 0.19391189515590668\n",
            "Epoch [7/12], Step [832/832], Loss: 0.2079\n",
            "epoch7 loss: 0.17027083039283752\n",
            "Epoch [8/12], Step [832/832], Loss: 0.0703\n",
            "epoch8 loss: 0.14959894120693207\n",
            "Epoch [9/12], Step [832/832], Loss: 0.0903\n",
            "epoch9 loss: 0.13229171931743622\n",
            "Epoch [10/12], Step [832/832], Loss: 0.1455\n",
            "epoch10 loss: 0.12563233077526093\n",
            "Epoch [11/12], Step [832/832], Loss: 0.1247\n",
            "epoch11 loss: 0.1135103851556778\n",
            "Epoch [12/12], Step [832/832], Loss: 0.1104\n",
            "epoch12 loss: 0.10300076752901077\n",
            "Training takes 13.97minutes\n"
          ]
        }
      ],
      "source": [
        "total_step = len(train_loader)\n",
        "total_loss = []\n",
        "model.train() # train 모드로 지정\n",
        "\n",
        "start = time.time() # Train 시작 시간 정보 저장\n",
        "for epoch in range(num_epochs): # 에폭만큼 반복, 각 에폭에 대해서 --> epoch별 반복문\n",
        "  epoch_loss = []\n",
        "  for i, (img, label) in enumerate(train_loader): # batch를 하나씩 불러오면서 --> batch별 반복문\n",
        "    # Assign Tensors to Configures Devices (gpu)\n",
        "    img = img.to(device)\n",
        "    label = label.to(device)\n",
        "\n",
        "    # Forward propagation\n",
        "    outputs = model(img)\n",
        "\n",
        "    # Get Loss, Compute Gradient, Update Parameters\n",
        "    loss = criterion(outputs, label) # loss 계산\n",
        "    optimizer.zero_grad() # gradient 초기화\n",
        "    loss.backward() # backpropagation 계산\n",
        "    optimizer.step() # gradient 업데이트\n",
        "\n",
        "    epoch_loss.append(loss.detach().cpu().numpy())\n",
        "    # Print Loss\n",
        "    if (i+1)==len(train_loader):\n",
        "      print('Epoch [{}/{}], Step [{}/{}], Loss: {:.4f}'.format(epoch+1, num_epochs, i+1, len(train_loader), loss.item()))\n",
        "  total_loss.append(np.mean(epoch_loss))\n",
        "  print(f\"epoch{epoch+1} loss: {np.mean(epoch_loss)}\") # loss가 점점 줄어드는 것을 확인할 수 있다\n",
        "\n",
        "end = time.time() # Train 종료 시간 정보 저장\n",
        "duration = end - start # 종료 시간 - 시작 시간\n",
        "print(\"Training takes {:.2f}minutes\".format(duration/60)) #초 단위로 저장되므로, 60으로 나누어 분으로 표시\n",
        "torch.save(model.state_dict(), 'model.pth')"
      ]
    },
    {
      "cell_type": "code",
      "execution_count": 30,
      "metadata": {
        "colab": {
          "base_uri": "https://localhost:8080/"
        },
        "id": "hTrQqRdwKwgW",
        "outputId": "a781f9ff-196a-42fa-ed2a-466ec66e1bde"
      },
      "outputs": [
        {
          "name": "stdout",
          "output_type": "stream",
          "text": [
            "ConvNet(\n",
            "  (layer1): Sequential(\n",
            "    (0): Conv2d(1, 32, kernel_size=(5, 5), stride=(1, 1), padding=(2, 2))\n",
            "    (1): BatchNorm2d(32, eps=1e-05, momentum=0.1, affine=True, track_running_stats=True)\n",
            "    (2): ReLU()\n",
            "    (3): MaxPool2d(kernel_size=2, stride=2, padding=0, dilation=1, ceil_mode=False)\n",
            "  )\n",
            "  (layer2): Sequential(\n",
            "    (0): Conv2d(32, 16, kernel_size=(1, 1), stride=(1, 1))\n",
            "    (1): BatchNorm2d(16, eps=1e-05, momentum=0.1, affine=True, track_running_stats=True)\n",
            "    (2): ReLU()\n",
            "    (3): Conv2d(16, 16, kernel_size=(5, 5), stride=(1, 1), padding=(2, 2))\n",
            "    (4): BatchNorm2d(16, eps=1e-05, momentum=0.1, affine=True, track_running_stats=True)\n",
            "    (5): ReLU()\n",
            "    (6): Conv2d(16, 64, kernel_size=(1, 1), stride=(1, 1))\n",
            "    (7): BatchNorm2d(64, eps=1e-05, momentum=0.1, affine=True, track_running_stats=True)\n",
            "    (8): ReLU()\n",
            "    (9): MaxPool2d(kernel_size=2, stride=2, padding=0, dilation=1, ceil_mode=False)\n",
            "  )\n",
            "  (layer3): Sequential(\n",
            "    (0): Conv2d(64, 32, kernel_size=(1, 1), stride=(1, 1))\n",
            "    (1): BatchNorm2d(32, eps=1e-05, momentum=0.1, affine=True, track_running_stats=True)\n",
            "    (2): ReLU()\n",
            "    (3): Conv2d(32, 32, kernel_size=(5, 5), stride=(1, 1), padding=(2, 2))\n",
            "    (4): BatchNorm2d(32, eps=1e-05, momentum=0.1, affine=True, track_running_stats=True)\n",
            "    (5): ReLU()\n",
            "    (6): Conv2d(32, 128, kernel_size=(1, 1), stride=(1, 1))\n",
            "    (7): BatchNorm2d(128, eps=1e-05, momentum=0.1, affine=True, track_running_stats=True)\n",
            "    (8): ReLU()\n",
            "    (9): MaxPool2d(kernel_size=5, stride=5, padding=0, dilation=1, ceil_mode=False)\n",
            "  )\n",
            "  (fc1): Linear(in_features=3200, out_features=100, bias=True)\n",
            "  (fc2): Linear(in_features=100, out_features=52, bias=True)\n",
            "  (dropout): Dropout(p=0.4, inplace=False)\n",
            ")\n"
          ]
        }
      ],
      "source": [
        "print(model)"
      ]
    },
    {
      "cell_type": "code",
      "execution_count": 32,
      "metadata": {
        "colab": {
          "base_uri": "https://localhost:8080/"
        },
        "id": "B74OJTXqxte8",
        "outputId": "5d269fd2-689f-4ea9-9b55-7ef17f9b537d"
      },
      "outputs": [
        {
          "name": "stdout",
          "output_type": "stream",
          "text": [
            "----------------------------------------------------------------\n",
            "        Layer (type)               Output Shape         Param #\n",
            "================================================================\n",
            "            Conv2d-1         [-1, 32, 100, 100]             832\n",
            "       BatchNorm2d-2         [-1, 32, 100, 100]              64\n",
            "              ReLU-3         [-1, 32, 100, 100]               0\n",
            "         MaxPool2d-4           [-1, 32, 50, 50]               0\n",
            "            Conv2d-5           [-1, 16, 50, 50]             528\n",
            "       BatchNorm2d-6           [-1, 16, 50, 50]              32\n",
            "              ReLU-7           [-1, 16, 50, 50]               0\n",
            "            Conv2d-8           [-1, 16, 50, 50]           6,416\n",
            "       BatchNorm2d-9           [-1, 16, 50, 50]              32\n",
            "             ReLU-10           [-1, 16, 50, 50]               0\n",
            "           Conv2d-11           [-1, 64, 50, 50]           1,088\n",
            "      BatchNorm2d-12           [-1, 64, 50, 50]             128\n",
            "             ReLU-13           [-1, 64, 50, 50]               0\n",
            "        MaxPool2d-14           [-1, 64, 25, 25]               0\n",
            "           Conv2d-15           [-1, 32, 25, 25]           2,080\n",
            "      BatchNorm2d-16           [-1, 32, 25, 25]              64\n",
            "             ReLU-17           [-1, 32, 25, 25]               0\n",
            "           Conv2d-18           [-1, 32, 25, 25]          25,632\n",
            "      BatchNorm2d-19           [-1, 32, 25, 25]              64\n",
            "             ReLU-20           [-1, 32, 25, 25]               0\n",
            "           Conv2d-21          [-1, 128, 25, 25]           4,224\n",
            "      BatchNorm2d-22          [-1, 128, 25, 25]             256\n",
            "             ReLU-23          [-1, 128, 25, 25]               0\n",
            "        MaxPool2d-24            [-1, 128, 5, 5]               0\n",
            "          Dropout-25                 [-1, 3200]               0\n",
            "           Linear-26                  [-1, 100]         320,100\n",
            "          Dropout-27                  [-1, 100]               0\n",
            "           Linear-28                   [-1, 52]           5,252\n",
            "================================================================\n",
            "Total params: 366,792\n",
            "Trainable params: 366,792\n",
            "Non-trainable params: 0\n",
            "----------------------------------------------------------------\n",
            "Input size (MB): 0.04\n",
            "Forward/backward pass size (MB): 16.53\n",
            "Params size (MB): 1.40\n",
            "Estimated Total Size (MB): 17.97\n",
            "----------------------------------------------------------------\n"
          ]
        }
      ],
      "source": [
        "from torchsummary import summary\n",
        "summary(model, (1, 100, 100))"
      ]
    },
    {
      "cell_type": "code",
      "execution_count": 31,
      "metadata": {
        "colab": {
          "base_uri": "https://localhost:8080/"
        },
        "id": "-sCKJuLmGScX",
        "outputId": "169061aa-388a-42fa-b4f6-814533a2b657"
      },
      "outputs": [
        {
          "name": "stdout",
          "output_type": "stream",
          "text": [
            "Accuracy of the last_model network on the 15600 valid images: 98.5448717948718 %\n"
          ]
        }
      ],
      "source": [
        "model.eval() # Set model as evaluation mode\n",
        "\n",
        "with torch.no_grad(): # auto_grad off\n",
        "  correct = 0\n",
        "  total = 0\n",
        "  for images, labels in valid_loader:\n",
        "    images = images.to(device)\n",
        "    labels = labels.to(device)\n",
        "    outputs = model(images)\n",
        "    _, predicted = torch.max(outputs.data, 1)\n",
        "\n",
        "    total += labels.size(0)\n",
        "    correct += (predicted == labels).sum().item()\n",
        "\n",
        "  print('Accuracy of the last_model network on the {} valid images: {} %'.format(len(valid_data), 100 * correct / len(valid_data)))"
      ]
    },
    {
      "cell_type": "code",
      "execution_count": null,
      "metadata": {},
      "outputs": [],
      "source": [
        "plt.plot(total_loss)\n",
        "plt.title(\"Loss Graph\")\n",
        "plt.show()"
      ]
    }
  ],
  "metadata": {
    "accelerator": "GPU",
    "colab": {
      "provenance": []
    },
    "kernelspec": {
      "display_name": "Python 3",
      "name": "python3"
    },
    "language_info": {
      "name": "python"
    }
  },
  "nbformat": 4,
  "nbformat_minor": 0
}
