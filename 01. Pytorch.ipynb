{
  "nbformat": 4,
  "nbformat_minor": 0,
  "metadata": {
    "colab": {
      "provenance": [],
      "gpuType": "T4"
    },
    "kernelspec": {
      "name": "python3",
      "display_name": "Python 3"
    },
    "language_info": {
      "name": "python"
    },
    "accelerator": "GPU"
  },
  "cells": [
    {
      "cell_type": "markdown",
      "source": [
        "*   Python List: 행렬 연산을 위해 for 문 사용\n",
        "*   Numpy : 차원이 다른 행렬 간에도 연산이 가능\n",
        "*   Tensor : GPU 상에서 연산이 가능하고 autograd(자동 미분)연산 기능이 있는 자료형"
      ],
      "metadata": {
        "id": "tJLVSFyFLOHk"
      }
    },
    {
      "cell_type": "markdown",
      "source": [
        "## 1. Python List와 Numpy의 행렬 연산"
      ],
      "metadata": {
        "id": "oRzXWu4YLeBk"
      }
    },
    {
      "cell_type": "code",
      "execution_count": 2,
      "metadata": {
        "id": "gS5U3GdILHq6"
      },
      "outputs": [],
      "source": [
        "import numpy as np\n",
        "\n",
        "data = [1, 2, 3, 4, 5]\n",
        "data2 = [1, 3, 5, 7, 9]"
      ]
    },
    {
      "cell_type": "code",
      "source": [
        "## python의 list는 연산의 결과로 concatination이 이루어진다\n",
        "print(data * 2)\n",
        "print(data + data2)"
      ],
      "metadata": {
        "colab": {
          "base_uri": "https://localhost:8080/"
        },
        "id": "noMesYk-L9pZ",
        "outputId": "e1fe0103-d338-49a4-e30d-9d26d98390df"
      },
      "execution_count": 3,
      "outputs": [
        {
          "output_type": "stream",
          "name": "stdout",
          "text": [
            "[1, 2, 3, 4, 5, 1, 2, 3, 4, 5]\n",
            "[1, 2, 3, 4, 5, 1, 3, 5, 7, 9]\n"
          ]
        }
      ]
    },
    {
      "cell_type": "code",
      "source": [
        "## 반면 numpy의 ndarray를 통한 연산은 행렬 연산으로 수행된다.\n",
        "print(np.array(data) * 2)\n",
        "print(np.array(data) + np.array(data2))"
      ],
      "metadata": {
        "colab": {
          "base_uri": "https://localhost:8080/"
        },
        "id": "CkvS6svyLzkA",
        "outputId": "b0815700-6f93-4acf-95a5-11c27bca47fb"
      },
      "execution_count": 4,
      "outputs": [
        {
          "output_type": "stream",
          "name": "stdout",
          "text": [
            "[ 2  4  6  8 10]\n",
            "[ 2  5  8 11 14]\n"
          ]
        }
      ]
    },
    {
      "cell_type": "code",
      "source": [
        "## 만약 python의 list에서 행렬 연산을 하려고 한다면 for문을 이용해야 한다\n",
        "print([i * 2 for i in data])\n",
        "print([data[i] + data2[i] for i in range(len(data))])"
      ],
      "metadata": {
        "colab": {
          "base_uri": "https://localhost:8080/"
        },
        "id": "rSvNAyRNL6ev",
        "outputId": "4ced3fb4-c8f7-4392-fec7-1ac6f03d5e84"
      },
      "execution_count": 5,
      "outputs": [
        {
          "output_type": "stream",
          "name": "stdout",
          "text": [
            "[2, 4, 6, 8, 10]\n",
            "[2, 5, 8, 11, 14]\n"
          ]
        }
      ]
    },
    {
      "cell_type": "markdown",
      "source": [
        "## 2. Tensor의 생성 및 초기화"
      ],
      "metadata": {
        "id": "MqckYS3hMzuL"
      }
    },
    {
      "cell_type": "code",
      "source": [
        "import torch\n",
        "import numpy as np\n",
        "\n",
        "# 초기화되지 않은 행렬 생성\n",
        "x = torch.empty(5,3)\n",
        "y = np.empty((5, 3))\n",
        "print(x)\n",
        "print(y)"
      ],
      "metadata": {
        "colab": {
          "base_uri": "https://localhost:8080/"
        },
        "id": "J5QLZSE9MY-T",
        "outputId": "5ec734ca-dc4e-4688-c1c8-61f251087438"
      },
      "execution_count": 6,
      "outputs": [
        {
          "output_type": "stream",
          "name": "stdout",
          "text": [
            "tensor([[ 2.6654e+27,  4.4362e-41,  2.6654e+27],\n",
            "        [ 4.4362e-41,  0.0000e+00,  0.0000e+00],\n",
            "        [ 0.0000e+00,  0.0000e+00,  1.0551e+24],\n",
            "        [ 4.5407e+24,  1.7836e+25,  1.0305e+21],\n",
            "        [ 6.9474e+22, -1.7127e+16,  1.8491e+31]])\n",
            "[[4.67694891e-310 0.00000000e+000 2.12199579e-314]\n",
            " [4.64502546e+151 4.35180602e+276 1.45349864e-094]\n",
            " [2.04738726e+190 1.43393751e+166 8.76132466e+245]\n",
            " [9.31733870e+242 1.92393181e+227 1.39635045e-308]\n",
            " [4.94065646e-323 6.71785340e-310 6.32404027e-322]]\n"
          ]
        }
      ]
    },
    {
      "cell_type": "code",
      "source": [
        "# torch.rand : 0 ~ 1 사이의 랜덤 초기화 행렬 생성\n",
        "x = torch.rand(5,3)\n",
        "print(x)"
      ],
      "metadata": {
        "colab": {
          "base_uri": "https://localhost:8080/"
        },
        "id": "HfDwTZnvM-mu",
        "outputId": "a37eaa3e-1e10-4ad4-ca37-20538ab8ec79"
      },
      "execution_count": 7,
      "outputs": [
        {
          "output_type": "stream",
          "name": "stdout",
          "text": [
            "tensor([[0.2704, 0.3116, 0.9796],\n",
            "        [0.4378, 0.8597, 0.6069],\n",
            "        [0.2237, 0.1299, 0.1311],\n",
            "        [0.5478, 0.2796, 0.9749],\n",
            "        [0.7432, 0.7519, 0.5481]])\n"
          ]
        }
      ]
    },
    {
      "cell_type": "code",
      "source": [
        "# 행렬에 대한 기술 통계 값 출력 가능\n",
        "x.mean(), x.std()"
      ],
      "metadata": {
        "colab": {
          "base_uri": "https://localhost:8080/"
        },
        "id": "IfbS8PnNNZ6i",
        "outputId": "b1c34951-2384-414d-ca40-b16dbe3a048f"
      },
      "execution_count": 8,
      "outputs": [
        {
          "output_type": "execute_result",
          "data": {
            "text/plain": [
              "(tensor(0.5197), tensor(0.2937))"
            ]
          },
          "metadata": {},
          "execution_count": 8
        }
      ]
    },
    {
      "cell_type": "code",
      "source": [
        "# torch.randn : 정규 분포에서 랜덤 초기화한 행렬 생성\n",
        "y = torch.randn(5, 3)\n",
        "print(y)"
      ],
      "metadata": {
        "colab": {
          "base_uri": "https://localhost:8080/"
        },
        "id": "2p6F7dwZNga6",
        "outputId": "63c09dcb-5fdf-48c6-f7cf-6035fcd92a33"
      },
      "execution_count": 9,
      "outputs": [
        {
          "output_type": "stream",
          "name": "stdout",
          "text": [
            "tensor([[-0.6750,  0.4258,  0.4279],\n",
            "        [-0.1215,  1.6424, -1.0874],\n",
            "        [-0.3644,  1.7714,  2.3071],\n",
            "        [ 0.1589, -0.5366,  0.7112],\n",
            "        [ 0.0588,  1.0674, -0.1017]])\n"
          ]
        }
      ]
    },
    {
      "cell_type": "code",
      "source": [
        "y.mean(), y.std() # 정규 분포인 만큼 평균은 0, 표준편차는 1에 가까운 것을 확인할 수 있다"
      ],
      "metadata": {
        "colab": {
          "base_uri": "https://localhost:8080/"
        },
        "id": "oIL4f-n_Nsex",
        "outputId": "c96a48ce-c949-44e2-f896-3fba45cb5475"
      },
      "execution_count": 10,
      "outputs": [
        {
          "output_type": "execute_result",
          "data": {
            "text/plain": [
              "(tensor(0.3789), tensor(0.9683))"
            ]
          },
          "metadata": {},
          "execution_count": 10
        }
      ]
    },
    {
      "cell_type": "code",
      "source": [
        "# 특정 값을 tensor로 만들기\n",
        "z = torch.tensor([[1.2, 4.5],[1, 2]])\n",
        "z"
      ],
      "metadata": {
        "colab": {
          "base_uri": "https://localhost:8080/"
        },
        "id": "Ck3naBbMNxUH",
        "outputId": "da4b714b-d052-408c-8732-7c81d1d1234a"
      },
      "execution_count": 11,
      "outputs": [
        {
          "output_type": "execute_result",
          "data": {
            "text/plain": [
              "tensor([[1.2000, 4.5000],\n",
              "        [1.0000, 2.0000]])"
            ]
          },
          "metadata": {},
          "execution_count": 11
        }
      ]
    },
    {
      "cell_type": "markdown",
      "source": [
        "## 3. Tensor size & Numpy 변환"
      ],
      "metadata": {
        "id": "GvR5xPpWOJrq"
      }
    },
    {
      "cell_type": "code",
      "source": [
        "# x.size() : Tensor의 size 확인\n",
        "x = torch.randn(3,4)\n",
        "print(x)\n",
        "print(\"x size : \", x.size())"
      ],
      "metadata": {
        "colab": {
          "base_uri": "https://localhost:8080/"
        },
        "id": "HiO_BLD9OB5X",
        "outputId": "2cfa4296-1fd0-4260-c65e-c709a058401f"
      },
      "execution_count": 12,
      "outputs": [
        {
          "output_type": "stream",
          "name": "stdout",
          "text": [
            "tensor([[-0.3344,  1.3915, -0.9406, -0.7495],\n",
            "        [-0.2305,  0.3313, -0.8857,  0.9780],\n",
            "        [-0.2604, -1.4590,  0.3771, -0.5475]])\n",
            "x size :  torch.Size([3, 4])\n"
          ]
        }
      ]
    },
    {
      "cell_type": "code",
      "source": [
        "# Tensor의 size를 변경하는 방법 1: reshape (for any tensor)\n",
        "\n",
        "x = torch.rand(3,4)  # 3행 4열\n",
        "y = x.reshape(4,3)   # 4행 3열\n",
        "z = x.reshape(-1, 2) # 2열로 하고 -1에는 남은 값을 자동으로 할당\n",
        "print(x, x.size(), \"\\n\", y, y.size(), \"\\n\", z, z.size())"
      ],
      "metadata": {
        "colab": {
          "base_uri": "https://localhost:8080/"
        },
        "id": "LtaKHbtKPA9L",
        "outputId": "12ed8593-b131-4cf7-c197-125b61227007"
      },
      "execution_count": 13,
      "outputs": [
        {
          "output_type": "stream",
          "name": "stdout",
          "text": [
            "tensor([[0.9784, 0.1346, 0.5678, 0.8484],\n",
            "        [0.1223, 0.2909, 0.1693, 0.4076],\n",
            "        [0.2698, 0.0878, 0.1638, 0.7548]]) torch.Size([3, 4]) \n",
            " tensor([[0.9784, 0.1346, 0.5678],\n",
            "        [0.8484, 0.1223, 0.2909],\n",
            "        [0.1693, 0.4076, 0.2698],\n",
            "        [0.0878, 0.1638, 0.7548]]) torch.Size([4, 3]) \n",
            " tensor([[0.9784, 0.1346],\n",
            "        [0.5678, 0.8484],\n",
            "        [0.1223, 0.2909],\n",
            "        [0.1693, 0.4076],\n",
            "        [0.2698, 0.0878],\n",
            "        [0.1638, 0.7548]]) torch.Size([6, 2])\n"
          ]
        }
      ]
    },
    {
      "cell_type": "code",
      "source": [
        "# Tensor의 size를 변경하는 방법 2: view (for contiguous tensors)\n",
        "\n",
        "x = torch.randn(3,4) # Normal distribution (정규 분포의 값으로 난수 생성)\n",
        "y = x.view(4,3)\n",
        "z = x.view(-1, 2)\n",
        "print(x, x.size(), \"\\n\", y, y.size(), \"\\n\", z, z.size())"
      ],
      "metadata": {
        "colab": {
          "base_uri": "https://localhost:8080/"
        },
        "id": "qW34asTDPIlo",
        "outputId": "9f63bbff-cdad-4e48-ccc6-fbd608269225"
      },
      "execution_count": 14,
      "outputs": [
        {
          "output_type": "stream",
          "name": "stdout",
          "text": [
            "tensor([[ 0.0531, -1.0366,  1.5609, -0.1091],\n",
            "        [ 1.2514, -1.4886, -0.0806, -1.2384],\n",
            "        [-1.2985, -0.5400,  0.5532,  0.1901]]) torch.Size([3, 4]) \n",
            " tensor([[ 0.0531, -1.0366,  1.5609],\n",
            "        [-0.1091,  1.2514, -1.4886],\n",
            "        [-0.0806, -1.2384, -1.2985],\n",
            "        [-0.5400,  0.5532,  0.1901]]) torch.Size([4, 3]) \n",
            " tensor([[ 0.0531, -1.0366],\n",
            "        [ 1.5609, -0.1091],\n",
            "        [ 1.2514, -1.4886],\n",
            "        [-0.0806, -1.2384],\n",
            "        [-1.2985, -0.5400],\n",
            "        [ 0.5532,  0.1901]]) torch.Size([6, 2])\n"
          ]
        }
      ]
    },
    {
      "cell_type": "markdown",
      "source": [
        "#### reshape과 view의 차이점\n",
        "모양 변경의 유연성   \n",
        "view는 tensor의 연속적인 부분을 다른 차원으로 재배치할 때만 가능     \n",
        "반면 reshape은 어느 tensor에 대해서도 재배치 가능  \n",
        "cf) 연속적(contiguous)는 axis 순서대로 자료가 저장된 상태를 의미한다   "
      ],
      "metadata": {
        "id": "P6Fz296pQz2g"
      }
    },
    {
      "cell_type": "code",
      "source": [
        "y = torch.ones(3, 4)\n",
        "print(y, '\\n', y.is_contiguous(), '\\n') # 값이 저장된 순서대로이므로 연속적인 상태\n",
        "\n",
        "y.transpose_(0, 1) # transpose를 통해 값이 저장된 순서를 조작\n",
        "print(y, '\\n', y.is_contiguous()) # 연속적이지 않은 상태가 되었다"
      ],
      "metadata": {
        "colab": {
          "base_uri": "https://localhost:8080/"
        },
        "id": "zmKm4P9rTIlN",
        "outputId": "79792ec1-658a-4a35-881a-af001c897b28"
      },
      "execution_count": 15,
      "outputs": [
        {
          "output_type": "stream",
          "name": "stdout",
          "text": [
            "tensor([[1., 1., 1., 1.],\n",
            "        [1., 1., 1., 1.],\n",
            "        [1., 1., 1., 1.]]) \n",
            " True \n",
            "\n",
            "tensor([[1., 1., 1.],\n",
            "        [1., 1., 1.],\n",
            "        [1., 1., 1.],\n",
            "        [1., 1., 1.]]) \n",
            " False\n"
          ]
        }
      ]
    },
    {
      "cell_type": "code",
      "source": [
        "y.reshape(3, 2, 2)  # 실행 가능\n",
        "#y.view(3, 2, 2)    # 실행 불가 --> \"view size is not compatible with input tensor's size and stride\"라는 RuntimeError 발생"
      ],
      "metadata": {
        "colab": {
          "base_uri": "https://localhost:8080/"
        },
        "id": "2WhJpYtSTvrn",
        "outputId": "18f49768-8f1e-4377-fb6f-6c38f045be5d"
      },
      "execution_count": 16,
      "outputs": [
        {
          "output_type": "execute_result",
          "data": {
            "text/plain": [
              "tensor([[[1., 1.],\n",
              "         [1., 1.]],\n",
              "\n",
              "        [[1., 1.],\n",
              "         [1., 1.]],\n",
              "\n",
              "        [[1., 1.],\n",
              "         [1., 1.]]])"
            ]
          },
          "metadata": {},
          "execution_count": 16
        }
      ]
    },
    {
      "cell_type": "code",
      "source": [
        "# Tensor to numpy\n",
        "x = torch.ones(5)\n",
        "y = x.numpy()\n",
        "print(x, type(x))\n",
        "print(y, type(y))"
      ],
      "metadata": {
        "colab": {
          "base_uri": "https://localhost:8080/"
        },
        "id": "FrolOyjnUbfJ",
        "outputId": "f1f12ee5-2813-48cf-d17d-fdea398ddbee"
      },
      "execution_count": 17,
      "outputs": [
        {
          "output_type": "stream",
          "name": "stdout",
          "text": [
            "tensor([1., 1., 1., 1., 1.]) <class 'torch.Tensor'>\n",
            "[1. 1. 1. 1. 1.] <class 'numpy.ndarray'>\n"
          ]
        }
      ]
    },
    {
      "cell_type": "code",
      "source": [
        "# Numpy to tensor\n",
        "x = np.ones(5)\n",
        "y = torch.from_numpy(x)\n",
        "print(x, type(x))\n",
        "print(y, type(y))"
      ],
      "metadata": {
        "colab": {
          "base_uri": "https://localhost:8080/"
        },
        "id": "L86zmZcKUeUK",
        "outputId": "0bad8c2a-edf5-4021-e1b3-f1dee92bee7a"
      },
      "execution_count": 18,
      "outputs": [
        {
          "output_type": "stream",
          "name": "stdout",
          "text": [
            "[1. 1. 1. 1. 1.] <class 'numpy.ndarray'>\n",
            "tensor([1., 1., 1., 1., 1.], dtype=torch.float64) <class 'torch.Tensor'>\n"
          ]
        }
      ]
    },
    {
      "cell_type": "code",
      "source": [
        "# GPU 연산을 위한 CUDA tensor\n",
        "x = torch.ones(5)\n",
        "y = x.to(device=\"cuda:0\") #런타임 연결 gpu로 설정\n",
        "print(x)\n",
        "print(y)"
      ],
      "metadata": {
        "colab": {
          "base_uri": "https://localhost:8080/"
        },
        "id": "dmuOIu6IUjRX",
        "outputId": "20f8075d-198a-4505-dec5-df7224cbbb2b"
      },
      "execution_count": 19,
      "outputs": [
        {
          "output_type": "stream",
          "name": "stdout",
          "text": [
            "tensor([1., 1., 1., 1., 1.])\n",
            "tensor([1., 1., 1., 1., 1.], device='cuda:0')\n"
          ]
        }
      ]
    },
    {
      "cell_type": "markdown",
      "source": [
        "## 4. Tensor Autograd"
      ],
      "metadata": {
        "id": "NfhxLBDDOL7_"
      }
    },
    {
      "cell_type": "markdown",
      "source": [
        "* requires_grad를 true로 세팅하면 tensor에 대한 모든 연산 추적 가능\n",
        "\n",
        "* 이를 통해 forward propagation 후, .backward() 호출 시 모든 gradient 자동으로 계산"
      ],
      "metadata": {
        "id": "UlmvGDpAVSNL"
      }
    },
    {
      "cell_type": "code",
      "source": [
        "x = torch.tensor(([1., 2.], [3., 4.]), requires_grad=True) # requires_grad를 해야 기록한다\n",
        "print(x)\n",
        "y = 3 * ((x+2)**2)\n",
        "print(y)\n",
        "\n",
        "out = y.sum()\n",
        "print(out)\n",
        "\n",
        "out.backward()\n",
        "print(x.grad)"
      ],
      "metadata": {
        "colab": {
          "base_uri": "https://localhost:8080/"
        },
        "id": "WXneTvQ_OPTL",
        "outputId": "1cf4cf47-a0d0-4805-f044-63cba7466cc6"
      },
      "execution_count": 21,
      "outputs": [
        {
          "output_type": "stream",
          "name": "stdout",
          "text": [
            "tensor([[1., 2.],\n",
            "        [3., 4.]], requires_grad=True)\n",
            "tensor([[ 27.,  48.],\n",
            "        [ 75., 108.]], grad_fn=<MulBackward0>)\n",
            "tensor(258., grad_fn=<SumBackward0>)\n",
            "tensor([[18., 24.],\n",
            "        [30., 36.]])\n"
          ]
        }
      ]
    },
    {
      "cell_type": "markdown",
      "source": [
        "마지막 out.backward()로 역전파를 수행하게 된다.   \n",
        "그리고 나서 출력한 x.grad는 x에 대한 변화도를 나타낸다.  \n",
        "즉 [1, 2, 3, 4]가 각각 어떠한 변화를 갖게 되었는지를 역전파를 통해 계산된 결과를 출력한 것이다   \n",
        "이는 y의 식을 x에 대해 미분하면 되는 것이고 3 * ((x+2) **2)이므로   \n",
        "x에 대해 미분하면 6 * (x + 2)가 될 것이다.   \n",
        "따라서 x.grad의 출력 결과를 보면 6 * (x + 2)와 동일하다는 것을 알 수 있다."
      ],
      "metadata": {
        "id": "6S9IcSKBV97Z"
      }
    },
    {
      "cell_type": "code",
      "source": [
        "print(6 * (x+2))"
      ],
      "metadata": {
        "colab": {
          "base_uri": "https://localhost:8080/"
        },
        "id": "pv7AdN-zWi9J",
        "outputId": "9d461bc5-ed9d-43f2-e189-d0449f026642"
      },
      "execution_count": 24,
      "outputs": [
        {
          "output_type": "stream",
          "name": "stdout",
          "text": [
            "tensor([[18., 24.],\n",
            "        [30., 36.]], grad_fn=<MulBackward0>)\n"
          ]
        }
      ]
    }
  ]
}