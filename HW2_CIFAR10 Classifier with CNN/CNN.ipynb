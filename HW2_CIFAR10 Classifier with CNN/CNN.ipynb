{
  "cells": [
    {
      "cell_type": "code",
      "execution_count": 1,
      "metadata": {
        "id": "KP9MhFEZ2BVM"
      },
      "outputs": [],
      "source": [
        "import torch\n",
        "import torchvision\n",
        "import torchvision.transforms as transforms\n",
        "\n",
        "# 추가한 라이브러리\n",
        "import matplotlib.pyplot as plt # 시각화\n",
        "import numpy as np\n",
        "import torch.nn as nn\n",
        "import torch.nn.functional as F"
      ]
    },
    {
      "cell_type": "markdown",
      "metadata": {
        "id": "FI656fLx2qki"
      },
      "source": [
        "## CIFAR10\n",
        "32x32 픽셀의 60000개 컬러 이미지로 구성된 데이터로 10개 클래스로 라벨링 되어 있다.    \n",
        "MNIST와 같이 머신러닝 연구에 가장 널리 사용되는 dataset중 하나이다."
      ]
    },
    {
      "cell_type": "markdown",
      "metadata": {
        "id": "NiRuftz94YGm"
      },
      "source": [
        "## 1. Define Hyper-parameters and pre-set device on cuda"
      ]
    },
    {
      "cell_type": "code",
      "execution_count": 2,
      "metadata": {
        "id": "wS4C2QoJ2EN1"
      },
      "outputs": [],
      "source": [
        "# Device Configuration\n",
        "device = torch.device('cuda' if torch.cuda.is_available() else 'cpu')\n",
        "\n",
        "# 최종 클래스와 입력 채널을 설정\n",
        "num_classes = 10 # CIFAR10은 10개의 클래스로 설정\n",
        "in_channel = 3   # CIFAR10은 컬러 이미지이기 때문에(RGB) 3개 채널로 입력\n",
        "\n",
        "# 하이퍼 파라미터 설정\n",
        "batch_size = 50\n",
        "max_pool_kernel = 2 # \"Max-pooling layer\"의 kernel size는 2x2로 구성\"\n",
        "learning_rate = 0.001\n",
        "num_epochs = 30"
      ]
    },
    {
      "cell_type": "markdown",
      "metadata": {
        "id": "912_oRjQ4dJt"
      },
      "source": [
        "## 2. Load CIFAR10 Data"
      ]
    },
    {
      "cell_type": "code",
      "execution_count": 3,
      "metadata": {
        "colab": {
          "base_uri": "https://localhost:8080/"
        },
        "id": "kdx6xOlE3K6P",
        "outputId": "ce41fe55-e0cd-494a-a90c-8c0e87cf08be"
      },
      "outputs": [
        {
          "name": "stdout",
          "output_type": "stream",
          "text": [
            "Downloading https://www.cs.toronto.edu/~kriz/cifar-10-python.tar.gz to ./datasets/cifar-10-python.tar.gz\n"
          ]
        },
        {
          "name": "stderr",
          "output_type": "stream",
          "text": [
            "100%|██████████| 170498071/170498071 [00:03<00:00, 50521612.30it/s]\n"
          ]
        },
        {
          "name": "stdout",
          "output_type": "stream",
          "text": [
            "Extracting ./datasets/cifar-10-python.tar.gz to ./datasets\n"
          ]
        }
      ],
      "source": [
        "# Load CIFAR10 data\n",
        "train_data = torchvision.datasets.CIFAR10(root='./datasets',\n",
        "                                        train=True,         # 학습 데이터를 받겠다\n",
        "                                        transform=transforms.ToTensor(), # tensor로 변환\n",
        "                                        download=True)"
      ]
    },
    {
      "cell_type": "markdown",
      "metadata": {
        "id": "kgqEuqWm4heC"
      },
      "source": [
        "## 3. Define DataLoader"
      ]
    },
    {
      "cell_type": "code",
      "execution_count": 4,
      "metadata": {
        "id": "ia_6aFQP3rMK"
      },
      "outputs": [],
      "source": [
        "# DataLoader 설정하기\n",
        "\n",
        "train_loader = torch.utils.data.DataLoader(dataset=train_data,\n",
        "                                          batch_size=batch_size, # 기존에 설정한 하이퍼 파라미터로 batch_size를 설정\n",
        "                                          shuffle=True)          # 학습 데이터는 shuffle"
      ]
    },
    {
      "cell_type": "markdown",
      "metadata": {
        "id": "tlGpfQsC4RMk"
      },
      "source": [
        "## 4. Define Model"
      ]
    },
    {
      "cell_type": "code",
      "execution_count": 5,
      "metadata": {
        "id": "PI93U1sL3-B2"
      },
      "outputs": [],
      "source": [
        "class ConvNetStep(nn.Module):\n",
        "  def __init__(self, num_classes=10):\n",
        "    super(ConvNetStep, self).__init__()\n",
        "\n",
        "    # 1st Layer\n",
        "    self.layer1 = nn.Sequential(  # 32x32 in_channel==3 --> padding==2 --> 36x36, channel=3 --> cnn 5x5 --> 32x32 out_channel=32\n",
        "        nn.Conv2d(in_channels=in_channel, out_channels=32, kernel_size=5, stride=1, padding=2), # in_channel==3, 5*5 kernel\n",
        "        nn.BatchNorm2d(num_features=32),\n",
        "        nn.ReLU(),\n",
        "        nn.MaxPool2d(kernel_size=max_pool_kernel) # 32 * 32, channel=32 --> 2x2 max_pooling --> 16x16, channel=32\n",
        "    )\n",
        "    # 2nd Layer\n",
        "    self.layer2 = nn.Sequential( # 16x16, in_channel=32 --> padding==2 --> 20x20, channel=32 --> cnn 5x5 --> 16x16, out_channel=64\n",
        "        nn.Conv2d(in_channels=32, out_channels=64, kernel_size=5, stride=1, padding=2),\n",
        "        nn.BatchNorm2d(num_features=64),\n",
        "        nn.ReLU(),\n",
        "        nn.MaxPool2d(kernel_size=max_pool_kernel) # 16x16, channel=64 --> 2x2 max_pooling --> 8x8, channel=64\n",
        "    )\n",
        "    # 3rd layer\n",
        "    self.layer3 = nn.Sequential( # 8x8, in_channel=64 --> padding==2 --> 12x12, channel=64 --> cnn 5x5 --> 8x8, out_channel=128\n",
        "        nn.Conv2d(in_channels=64, out_channels=128, kernel_size=5, stride=1, padding=2),\n",
        "        nn.BatchNorm2d(num_features=128),\n",
        "        nn.ReLU(),\n",
        "        nn.MaxPool2d(kernel_size=max_pool_kernel) # 8x8, channel=128 --> 2x2 max_pooling --> 4x4, channel=128\n",
        "    )\n",
        "\n",
        "    # 4th Layer(1st Fully_connected)\n",
        "    self.fc1 = nn.Linear(in_features=4 * 4 * 128, out_features= 100)   # 2048 --> 100\n",
        "    self.dropout1 = nn.Dropout(p=0.3)\n",
        "    # 5th Layer(2nd Fully_connected)\n",
        "    self.fc2 = nn.Linear(in_features=100, out_features=50)            #  100 -->  50\n",
        "    self.dropout2 = nn.Dropout(p=0.3)\n",
        "    # Output Layer(3rd Fully_connected)\n",
        "    self.fc3 = nn.Linear(in_features=50, out_features=num_classes)    #   50 -->  10\n",
        "\n",
        "  def forward(self, x):    # 실제 학습 시에는 이 함수만 사용\n",
        "    x = self.layer1(x)\n",
        "    x = self.layer2(x)\n",
        "    x = self.layer3(x)\n",
        "\n",
        "    x = x.reshape(x.size(0),-1) # fully_connected에 넣을 수 있도록 flatten\n",
        "\n",
        "    x = F.relu(self.fc1(x))\n",
        "    x = self.dropout1(x)  # 드롭아웃 적용\n",
        "    x = F.relu(self.fc2(x))\n",
        "    x = self.dropout2(x)  # 드롭아웃 적용\n",
        "    x = self.fc3(x)\n",
        "\n",
        "    return x\n",
        "\n",
        "model = ConvNetStep() # 이렇게 모델의 인스턴스를 생성"
      ]
    },
    {
      "cell_type": "markdown",
      "metadata": {
        "id": "fzFD12Hhg_D7"
      },
      "source": [
        "## 5. Set Optimizer"
      ]
    },
    {
      "cell_type": "code",
      "execution_count": 6,
      "metadata": {
        "id": "yTjB8Gp5gMEs"
      },
      "outputs": [],
      "source": [
        "model = ConvNetStep().to(device)\n",
        "criterion = nn.CrossEntropyLoss()\n",
        "optimizer = torch.optim.Adam(model.parameters(), lr=learning_rate) # Adam optimizer 이용"
      ]
    },
    {
      "cell_type": "markdown",
      "metadata": {
        "id": "5FAQI2wIhPOj"
      },
      "source": [
        "## 6. Train"
      ]
    },
    {
      "cell_type": "code",
      "execution_count": 7,
      "metadata": {
        "colab": {
          "base_uri": "https://localhost:8080/"
        },
        "id": "lBSaBeOzhEgt",
        "outputId": "e227f1bb-37fc-4e72-85ca-e0e8929aefb6"
      },
      "outputs": [
        {
          "name": "stdout",
          "output_type": "stream",
          "text": [
            "Epoch [1/30], Step [1000/1000], Loss: 1.3159\n",
            "epoch1 loss: 1.5771172046661377\n",
            "Epoch [2/30], Step [1000/1000], Loss: 1.0089\n",
            "epoch2 loss: 1.199245810508728\n",
            "Epoch [3/30], Step [1000/1000], Loss: 1.1966\n",
            "epoch3 loss: 1.0309574604034424\n",
            "Epoch [4/30], Step [1000/1000], Loss: 0.9340\n",
            "epoch4 loss: 0.9157435297966003\n",
            "Epoch [5/30], Step [1000/1000], Loss: 0.7501\n",
            "epoch5 loss: 0.8367354869842529\n",
            "Epoch [6/30], Step [1000/1000], Loss: 0.9997\n",
            "epoch6 loss: 0.7557193636894226\n",
            "Epoch [7/30], Step [1000/1000], Loss: 0.6575\n",
            "epoch7 loss: 0.6956360936164856\n",
            "Epoch [8/30], Step [1000/1000], Loss: 0.5251\n",
            "epoch8 loss: 0.6340035796165466\n",
            "Epoch [9/30], Step [1000/1000], Loss: 0.6480\n",
            "epoch9 loss: 0.5871913433074951\n",
            "Epoch [10/30], Step [1000/1000], Loss: 0.7008\n",
            "epoch10 loss: 0.5406335592269897\n",
            "Epoch [11/30], Step [1000/1000], Loss: 0.5094\n",
            "epoch11 loss: 0.49104252457618713\n",
            "Epoch [12/30], Step [1000/1000], Loss: 0.5000\n",
            "epoch12 loss: 0.4531368911266327\n",
            "Epoch [13/30], Step [1000/1000], Loss: 0.2835\n",
            "epoch13 loss: 0.4197697639465332\n",
            "Epoch [14/30], Step [1000/1000], Loss: 0.3602\n",
            "epoch14 loss: 0.38502153754234314\n",
            "Epoch [15/30], Step [1000/1000], Loss: 0.5236\n",
            "epoch15 loss: 0.35953107476234436\n",
            "Epoch [16/30], Step [1000/1000], Loss: 0.2588\n",
            "epoch16 loss: 0.33108991384506226\n",
            "Epoch [17/30], Step [1000/1000], Loss: 0.3200\n",
            "epoch17 loss: 0.3057199716567993\n",
            "Epoch [18/30], Step [1000/1000], Loss: 0.2725\n",
            "epoch18 loss: 0.28759387135505676\n",
            "Epoch [19/30], Step [1000/1000], Loss: 0.2528\n",
            "epoch19 loss: 0.2748008370399475\n",
            "Epoch [20/30], Step [1000/1000], Loss: 0.5401\n",
            "epoch20 loss: 0.25334882736206055\n",
            "Epoch [21/30], Step [1000/1000], Loss: 0.1882\n",
            "epoch21 loss: 0.23764126002788544\n",
            "Epoch [22/30], Step [1000/1000], Loss: 0.1668\n",
            "epoch22 loss: 0.2312459647655487\n",
            "Epoch [23/30], Step [1000/1000], Loss: 0.1457\n",
            "epoch23 loss: 0.21883569657802582\n",
            "Epoch [24/30], Step [1000/1000], Loss: 0.3242\n",
            "epoch24 loss: 0.20757386088371277\n",
            "Epoch [25/30], Step [1000/1000], Loss: 0.2612\n",
            "epoch25 loss: 0.19725541770458221\n",
            "Epoch [26/30], Step [1000/1000], Loss: 0.3802\n",
            "epoch26 loss: 0.1894160509109497\n",
            "Epoch [27/30], Step [1000/1000], Loss: 0.1077\n",
            "epoch27 loss: 0.17981258034706116\n",
            "Epoch [28/30], Step [1000/1000], Loss: 0.1026\n",
            "epoch28 loss: 0.16578109562397003\n",
            "Epoch [29/30], Step [1000/1000], Loss: 0.0803\n",
            "epoch29 loss: 0.166827991604805\n",
            "Epoch [30/30], Step [1000/1000], Loss: 0.4532\n",
            "epoch30 loss: 0.1613074392080307\n"
          ]
        }
      ],
      "source": [
        "total_step = len(train_loader)\n",
        "total_loss = []\n",
        "model.train() # train 모드로 지정\n",
        "for epoch in range(num_epochs): # 에폭만큼 반복, 각 에폭에 대해서 --> epoch별 반복문\n",
        "  epoch_loss = []\n",
        "  for i, (img, label) in enumerate(train_loader): # batch를 하나씩 불러오면서 --> batch별 반복문\n",
        "    # Assign Tensors to Configures Devices (gpu)\n",
        "    img = img.to(device)\n",
        "    label = label.to(device)\n",
        "\n",
        "    # Forward propagation\n",
        "    outputs = model(img)\n",
        "\n",
        "    # Get Loss, Compute Gradient, Update Parameters\n",
        "    loss = criterion(outputs, label) # loss 계산\n",
        "    optimizer.zero_grad() # gradient 초기화\n",
        "    loss.backward() # backpropagation 계산\n",
        "    optimizer.step() # gradient 업데이트\n",
        "\n",
        "    epoch_loss.append(loss.detach().cpu().numpy())\n",
        "    # Print Loss\n",
        "    if (i+1)==len(train_loader):\n",
        "      print('Epoch [{}/{}], Step [{}/{}], Loss: {:.4f}'.format(epoch+1, num_epochs, i+1, len(train_loader), loss.item()))\n",
        "  total_loss.append(np.mean(epoch_loss))\n",
        "  print(f\"epoch{epoch+1} loss: {np.mean(epoch_loss)}\") # loss가 점점 줄어드는 것을 확인할 수 있다"
      ]
    },
    {
      "cell_type": "code",
      "execution_count": 9,
      "metadata": {
        "id": "mbO5LHcFnvHQ"
      },
      "outputs": [],
      "source": [
        "torch.save(model.state_dict(), 'model.pth')"
      ]
    },
    {
      "cell_type": "code",
      "execution_count": 8,
      "metadata": {
        "colab": {
          "base_uri": "https://localhost:8080/"
        },
        "id": "qjYx3d9ZsSWC",
        "outputId": "dcd4e28c-4ca0-43ab-cf0e-00d0df148bb8"
      },
      "outputs": [
        {
          "name": "stdout",
          "output_type": "stream",
          "text": [
            "Files already downloaded and verified\n",
            "Accuracy of the network on the 10000 test images 78.34%\n"
          ]
        }
      ],
      "source": [
        "'''\n",
        "test_data = torchvision.datasets.CIFAR10(root='./datasets',\n",
        "                                       train=False,         # 테스트 데이터를 받겠다\n",
        "                                       transform=transforms.ToTensor(), # tensor로 변환\n",
        "                                       download=True)\n",
        "\n",
        "test_loader = torch.utils.data.DataLoader(dataset=test_data,\n",
        "                                          batch_size=batch_size,\n",
        "                                          shuffle=False)         # test의 경우에는 shuffle이 필요 없음\n",
        "\n",
        "model.eval() # Set model as evaluation mode\n",
        "\n",
        "with torch.no_grad(): # auto_grad off\n",
        "  correct = 0\n",
        "  total = 0\n",
        "  for images, labels in test_loader:\n",
        "    images = images.to(device)\n",
        "    labels = labels.to(device)\n",
        "    outputs = model(images)\n",
        "    _, predicted = torch.max(outputs.data, 1)\n",
        "\n",
        "    total += labels.size(0)\n",
        "    correct += (predicted == labels).sum().item()\n",
        "\n",
        "  print('Accuracy of the network on the {} test images {}%'.format(len(test_loader)*batch_size, 100*correct/total))\n",
        "'''"
      ]
    },
    {
      "cell_type": "markdown",
      "metadata": {
        "id": "lH9aOJM2hS3o"
      },
      "source": [
        "### 7. Visualization"
      ]
    },
    {
      "cell_type": "code",
      "execution_count": 10,
      "metadata": {
        "colab": {
          "base_uri": "https://localhost:8080/",
          "height": 452
        },
        "id": "rqGTdRL_hYmi",
        "outputId": "88088422-f9e2-4f54-a5a9-3a4bf36dac0c"
      },
      "outputs": [
        {
          "data": {
            "image/png": "[encoded data removed]",
            "text/plain": [
              "<Figure size 640x480 with 1 Axes>"
            ]
          },
          "metadata": {},
          "output_type": "display_data"
        }
      ],
      "source": [
        "plt.plot(total_loss)\n",
        "plt.title(\"CIFAR-10 CNN loss example\")\n",
        "plt.show()"
      ]
    }
  ],
  "metadata": {
    "colab": {
      "provenance": []
    },
    "kernelspec": {
      "display_name": "Python 3",
      "name": "python3"
    },
    "language_info": {
      "name": "python"
    }
  },
  "nbformat": 4,
  "nbformat_minor": 0
}
