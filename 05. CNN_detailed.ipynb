{
  "nbformat": 4,
  "nbformat_minor": 0,
  "metadata": {
    "colab": {
      "provenance": []
    },
    "kernelspec": {
      "name": "python3",
      "display_name": "Python 3"
    },
    "language_info": {
      "name": "python"
    }
  },
  "cells": [
    {
      "cell_type": "code",
      "execution_count": 1,
      "metadata": {
        "id": "M8qn70rHHvj8"
      },
      "outputs": [],
      "source": [
        "import numpy as np\n",
        "import matplotlib.pyplot as plt\n",
        "\n",
        "import torch\n",
        "import torch.nn as nn\n",
        "import torch.nn.functional as F\n",
        "import torchvision\n",
        "import torchvision.transforms as transforms"
      ]
    },
    {
      "cell_type": "markdown",
      "source": [
        "## 1. Define Hyper-parameters and pre-set device on cuda"
      ],
      "metadata": {
        "id": "Y59Kp3yxy4Pc"
      }
    },
    {
      "cell_type": "code",
      "source": [
        "# Device Configuration\n",
        "device = torch.device('cuda' if torch.cuda.is_available() else 'cpu')\n",
        "print(f'device: {device}')\n",
        "\n",
        "num_classes = 10\n",
        "in_channel = 1\n",
        "\n",
        "# Hyper-Parameter\n",
        "num_epochs = 5\n",
        "batch_size = 50\n",
        "max_pool_kernel = 2\n",
        "learning_rate = 0.001"
      ],
      "metadata": {
        "colab": {
          "base_uri": "https://localhost:8080/"
        },
        "id": "WzHI-ZjNy3Hj",
        "outputId": "7df3b41f-d481-4229-c1c1-54f2cb4ea689"
      },
      "execution_count": 2,
      "outputs": [
        {
          "output_type": "stream",
          "name": "stdout",
          "text": [
            "device: cpu\n"
          ]
        }
      ]
    },
    {
      "cell_type": "markdown",
      "source": [
        "## 2. Load Data"
      ],
      "metadata": {
        "id": "jew1rdR3zUFN"
      }
    },
    {
      "cell_type": "code",
      "source": [
        "train_data = torchvision.datasets.MNIST(root='./datasets',\n",
        "                                        train = True,\n",
        "                                        transform = transforms.ToTensor(),\n",
        "                                        download = True)\n",
        "test_data = torchvision.datasets.MNIST(root = './datasets',\n",
        "                                       train = False,\n",
        "                                       transform = transforms.ToTensor(),\n",
        "                                       download = True)"
      ],
      "metadata": {
        "id": "mCgvm6CSzS4V"
      },
      "execution_count": 3,
      "outputs": []
    },
    {
      "cell_type": "markdown",
      "source": [
        "## 3. Load DataLoader"
      ],
      "metadata": {
        "id": "bU9j66Dzzv28"
      }
    },
    {
      "cell_type": "code",
      "source": [
        "train_loader = torch.utils.data.DataLoader(dataset = train_data,\n",
        "                                           batch_size = batch_size,\n",
        "                                           shuffle = True)\n",
        "test_loader = torch.utils.data.DataLoader(dataset = test_data,\n",
        "                                          batch_size = batch_size,\n",
        "                                          shuffle = False)"
      ],
      "metadata": {
        "id": "2PUVas9EztXE"
      },
      "execution_count": 4,
      "outputs": []
    },
    {
      "cell_type": "markdown",
      "source": [
        "## 4. Define Model"
      ],
      "metadata": {
        "id": "O5cCcyRR0AaX"
      }
    },
    {
      "cell_type": "code",
      "source": [
        "class Conv(nn.Module):\n",
        "  def __init__(self, num_classes = 10):\n",
        "    super(Conv, self).__init__()\n",
        "    self.layer1 = nn.Sequential( # 28x28x1 --> 28x28x16\n",
        "        nn.Conv2d(in_channels=in_channel, out_channels=16, kernel_size=5, stride=1, padding=2),\n",
        "        nn.BatchNorm2d(16),\n",
        "        nn.ReLU(),\n",
        "        nn.MaxPool2d(max_pool_kernel) # 28x28x16 --> 14x14x16\n",
        "    )\n",
        "    self.layer2 = nn.Sequential( # 14x14x16 --> 14x14x32\n",
        "        nn.Conv2d(in_channels=16, out_channels=32, kernel_size=5, stride=1, padding=2),\n",
        "        nn.BatchNorm2d(32),\n",
        "        nn.ReLU(),\n",
        "        nn.MaxPool2d(max_pool_kernel) # 14x14x32 --> 7x7x32\n",
        "    )\n",
        "    self.fc1 = nn.Linear(7*7*32, 120)\n",
        "    self.fc2 = nn.Linear(120, num_classes)\n",
        "\n",
        "  def forward1(self, x):\n",
        "    x = self.layer1(x)\n",
        "    return x\n",
        "  def forward2(self, x):\n",
        "    x = self.layer2(x)\n",
        "    return x\n",
        "  def forward3(self, x):\n",
        "    x = x.reshape(x.size(0), -1)\n",
        "    x = self.fc1(x)\n",
        "    return x\n",
        "  def forward4(self, x):\n",
        "    x = self.fc2(x)\n",
        "    return x\n",
        "\n",
        "  def forward(self, x):\n",
        "    x = self.layer1(x)\n",
        "    x = self.layer2(x)\n",
        "\n",
        "    x = x.reshape(x.size(0), -1)\n",
        "    x = F.relu(self.fc1(x))\n",
        "    x = self.fc2(x)\n",
        "\n",
        "    return x"
      ],
      "metadata": {
        "id": "tH7O2WKwz-jh"
      },
      "execution_count": 5,
      "outputs": []
    },
    {
      "cell_type": "code",
      "source": [
        "model = Conv(num_classes)"
      ],
      "metadata": {
        "id": "r9gcee3k1uP4"
      },
      "execution_count": 6,
      "outputs": []
    },
    {
      "cell_type": "code",
      "source": [
        "print(model)"
      ],
      "metadata": {
        "colab": {
          "base_uri": "https://localhost:8080/"
        },
        "id": "7ZTDEYag1wgr",
        "outputId": "37865f1f-52d8-402b-bb47-a9db802d84e5"
      },
      "execution_count": 7,
      "outputs": [
        {
          "output_type": "stream",
          "name": "stdout",
          "text": [
            "Conv(\n",
            "  (layer1): Sequential(\n",
            "    (0): Conv2d(1, 16, kernel_size=(5, 5), stride=(1, 1), padding=(2, 2))\n",
            "    (1): BatchNorm2d(16, eps=1e-05, momentum=0.1, affine=True, track_running_stats=True)\n",
            "    (2): ReLU()\n",
            "    (3): MaxPool2d(kernel_size=2, stride=2, padding=0, dilation=1, ceil_mode=False)\n",
            "  )\n",
            "  (layer2): Sequential(\n",
            "    (0): Conv2d(16, 32, kernel_size=(5, 5), stride=(1, 1), padding=(2, 2))\n",
            "    (1): BatchNorm2d(32, eps=1e-05, momentum=0.1, affine=True, track_running_stats=True)\n",
            "    (2): ReLU()\n",
            "    (3): MaxPool2d(kernel_size=2, stride=2, padding=0, dilation=1, ceil_mode=False)\n",
            "  )\n",
            "  (fc1): Linear(in_features=1568, out_features=120, bias=True)\n",
            "  (fc2): Linear(in_features=120, out_features=10, bias=True)\n",
            ")\n"
          ]
        }
      ]
    },
    {
      "cell_type": "markdown",
      "source": [
        "## 5. Inside CNN"
      ],
      "metadata": {
        "id": "6AC2ev5O101B"
      }
    },
    {
      "cell_type": "markdown",
      "source": [
        "### 1) Row Image"
      ],
      "metadata": {
        "id": "DmitqlA3243A"
      }
    },
    {
      "cell_type": "code",
      "source": [
        "def image_show(tensor_image):\n",
        "  # tensor_image.size = (batch_size, image width, image height)\n",
        "  image = tensor_image.reshape(tensor_image.size()[1], tensor_image.size()[2])    # width x height\n",
        "  plt.imshow(image, cmap='gray')\n",
        "\n",
        "images, labels = next(iter(train_loader))\n",
        "image1, label1 = images[0], labels[0]\n",
        "image2, label2 = images[1], labels[1]\n",
        "\n",
        "plt.figure(figsize=(5,5))\n",
        "\n",
        "plt.subplot(1,2,1)\n",
        "image_show(image1)\n",
        "plt.title(label1)\n",
        "\n",
        "plt.subplot(1,2,2)\n",
        "image_show(image2)\n",
        "plt.title(label2)\n",
        "\n",
        "plt.show()"
      ],
      "metadata": {
        "colab": {
          "base_uri": "https://localhost:8080/",
          "height": 259
        },
        "id": "kzBC-Fye1xIy",
        "outputId": "778923ed-f1d9-4e60-ab98-6325a5c8e571"
      },
      "execution_count": 8,
      "outputs": [
        {
          "output_type": "display_data",
          "data": {
            "text/plain": [
              "<Figure size 500x500 with 2 Axes>"
            ],
            "image/png": "[encoded data removed]"
          },
          "metadata": {}
        }
      ]
    },
    {
      "cell_type": "code",
      "source": [
        "image1.size()"
      ],
      "metadata": {
        "colab": {
          "base_uri": "https://localhost:8080/"
        },
        "id": "nIw6itiI-l2k",
        "outputId": "28fdf5b3-68e8-40c9-fa56-9fb105d38dda"
      },
      "execution_count": 9,
      "outputs": [
        {
          "output_type": "execute_result",
          "data": {
            "text/plain": [
              "torch.Size([1, 28, 28])"
            ]
          },
          "metadata": {},
          "execution_count": 9
        }
      ]
    },
    {
      "cell_type": "code",
      "source": [
        "image1[-1]  # 1개의 채널이지만 인덱싱해서 28x28의 2차원 Tensor 데이터로 확인\n",
        "            # 각각의 데이터는 0과 1사이에 있으며 1에 가까울수록 진한 것을 확인 가능"
      ],
      "metadata": {
        "colab": {
          "base_uri": "https://localhost:8080/"
        },
        "id": "26GxKaxF-uAI",
        "outputId": "1a0a0dc0-3e2c-4c33-d743-1c49b52827a5"
      },
      "execution_count": 10,
      "outputs": [
        {
          "output_type": "execute_result",
          "data": {
            "text/plain": [
              "tensor([[0.0000, 0.0000, 0.0000, 0.0000, 0.0000, 0.0000, 0.0000, 0.0000, 0.0000,\n",
              "         0.0000, 0.0000, 0.0000, 0.0000, 0.0000, 0.0000, 0.0000, 0.0000, 0.0000,\n",
              "         0.0000, 0.0000, 0.0000, 0.0000, 0.0000, 0.0000, 0.0000, 0.0000, 0.0000,\n",
              "         0.0000],\n",
              "        [0.0000, 0.0000, 0.0000, 0.0000, 0.0000, 0.0000, 0.0000, 0.0000, 0.0000,\n",
              "         0.0000, 0.0000, 0.0000, 0.0000, 0.0000, 0.0000, 0.0000, 0.0000, 0.0000,\n",
              "         0.0000, 0.0000, 0.0000, 0.0000, 0.0000, 0.0000, 0.0000, 0.0000, 0.0000,\n",
              "         0.0000],\n",
              "        [0.0000, 0.0000, 0.0000, 0.0000, 0.0000, 0.0000, 0.0000, 0.0000, 0.0000,\n",
              "         0.0000, 0.0000, 0.0000, 0.0000, 0.0000, 0.0000, 0.0000, 0.0000, 0.0000,\n",
              "         0.0000, 0.0000, 0.0000, 0.0000, 0.0000, 0.0000, 0.0000, 0.0000, 0.0000,\n",
              "         0.0000],\n",
              "        [0.0000, 0.0000, 0.0000, 0.0000, 0.0000, 0.0000, 0.0000, 0.0000, 0.0000,\n",
              "         0.0000, 0.0000, 0.0000, 0.0000, 0.0000, 0.0000, 0.0000, 0.0000, 0.0000,\n",
              "         0.0000, 0.0000, 0.0000, 0.0000, 0.0000, 0.0000, 0.0000, 0.0000, 0.0000,\n",
              "         0.0000],\n",
              "        [0.0000, 0.0000, 0.0000, 0.0000, 0.0000, 0.0000, 0.0000, 0.0000, 0.0000,\n",
              "         0.0000, 0.0000, 0.0000, 0.0000, 0.0000, 0.0000, 0.0000, 0.0000, 0.0000,\n",
              "         0.0000, 0.0000, 0.0000, 0.0000, 0.0000, 0.0000, 0.0000, 0.0000, 0.0000,\n",
              "         0.0000],\n",
              "        [0.0000, 0.0000, 0.0000, 0.0000, 0.0000, 0.0000, 0.0000, 0.0000, 0.0000,\n",
              "         0.0000, 0.0000, 0.0000, 0.0000, 0.0000, 0.0000, 0.0000, 0.0000, 0.0000,\n",
              "         0.0000, 0.0000, 0.0000, 0.0000, 0.0000, 0.0000, 0.0000, 0.0000, 0.0000,\n",
              "         0.0000],\n",
              "        [0.0000, 0.0000, 0.0000, 0.0000, 0.0000, 0.0000, 0.0000, 0.0000, 0.0000,\n",
              "         0.0000, 0.0000, 0.0000, 0.0000, 0.0000, 0.0000, 0.0000, 0.0000, 0.0235,\n",
              "         0.1451, 0.1098, 0.0000, 0.0000, 0.0000, 0.0000, 0.0000, 0.0000, 0.0000,\n",
              "         0.0000],\n",
              "        [0.0000, 0.0000, 0.0000, 0.0000, 0.0000, 0.0000, 0.0000, 0.0000, 0.0000,\n",
              "         0.0000, 0.0000, 0.0000, 0.0000, 0.0000, 0.0000, 0.1922, 0.2392, 0.7137,\n",
              "         0.9922, 0.7569, 0.0000, 0.0000, 0.0000, 0.0000, 0.0000, 0.0000, 0.0000,\n",
              "         0.0000],\n",
              "        [0.0000, 0.0000, 0.0000, 0.0000, 0.0000, 0.0000, 0.0000, 0.0000, 0.0000,\n",
              "         0.0000, 0.0000, 0.0000, 0.2078, 0.4471, 0.7137, 0.9961, 0.9922, 0.9922,\n",
              "         0.9922, 0.7569, 0.0000, 0.0000, 0.0941, 0.6706, 0.1451, 0.0000, 0.0000,\n",
              "         0.0000],\n",
              "        [0.0000, 0.0000, 0.0000, 0.0000, 0.0000, 0.0000, 0.0000, 0.0000, 0.0000,\n",
              "         0.0000, 0.0000, 0.6196, 0.9608, 0.9922, 0.9922, 0.9961, 0.9922, 0.9922,\n",
              "         0.9922, 0.6196, 0.0000, 0.0000, 0.7451, 0.9922, 0.8824, 0.0000, 0.0000,\n",
              "         0.0000],\n",
              "        [0.0000, 0.0000, 0.0000, 0.0000, 0.0000, 0.0000, 0.0000, 0.0000, 0.0000,\n",
              "         0.0824, 0.4706, 0.9569, 0.9922, 0.9922, 0.9922, 0.9961, 0.9922, 0.9922,\n",
              "         0.9294, 0.1882, 0.0000, 0.0000, 0.8549, 0.9922, 0.8353, 0.0000, 0.0000,\n",
              "         0.0000],\n",
              "        [0.0000, 0.0000, 0.0000, 0.0000, 0.0000, 0.0000, 0.0000, 0.0000, 0.0745,\n",
              "         0.7529, 0.9922, 0.9922, 0.9922, 0.9922, 0.6275, 0.3922, 0.8314, 0.9922,\n",
              "         0.3961, 0.0000, 0.0000, 0.1294, 0.9098, 0.9922, 0.3373, 0.0000, 0.0000,\n",
              "         0.0000],\n",
              "        [0.0000, 0.0000, 0.0000, 0.0000, 0.0000, 0.0000, 0.0000, 0.0627, 0.7647,\n",
              "         0.9922, 0.9922, 0.9922, 0.8275, 0.3647, 0.0039, 0.4784, 0.9529, 0.6588,\n",
              "         0.0314, 0.0000, 0.0000, 0.7647, 0.9922, 0.9922, 0.0431, 0.0000, 0.0000,\n",
              "         0.0000],\n",
              "        [0.0000, 0.0000, 0.0000, 0.0000, 0.0000, 0.0000, 0.0941, 0.9569, 0.9922,\n",
              "         0.9922, 0.9922, 0.4510, 0.0275, 0.0000, 0.0000, 0.5216, 0.9020, 0.0196,\n",
              "         0.0000, 0.0000, 0.1373, 0.8980, 0.9922, 0.7882, 0.0235, 0.0000, 0.0000,\n",
              "         0.0000],\n",
              "        [0.0000, 0.0000, 0.0000, 0.0000, 0.0000, 0.0039, 0.5922, 0.9961, 0.9961,\n",
              "         0.8745, 0.3412, 0.0000, 0.0000, 0.0000, 0.0000, 0.0000, 0.0000, 0.0000,\n",
              "         0.0118, 0.2784, 0.9961, 0.9961, 0.6157, 0.0000, 0.0000, 0.0000, 0.0000,\n",
              "         0.0000],\n",
              "        [0.0000, 0.0000, 0.0000, 0.0000, 0.0000, 0.0941, 0.9922, 0.9922, 0.9765,\n",
              "         0.4588, 0.0000, 0.0000, 0.0000, 0.0000, 0.0000, 0.0000, 0.0000, 0.0157,\n",
              "         0.4980, 0.9922, 0.9922, 0.9176, 0.3294, 0.0000, 0.0000, 0.0000, 0.0000,\n",
              "         0.0000],\n",
              "        [0.0000, 0.0000, 0.0000, 0.0000, 0.0000, 0.5216, 0.9922, 0.9922, 0.5059,\n",
              "         0.0000, 0.0000, 0.0000, 0.0000, 0.0000, 0.0000, 0.0000, 0.0824, 0.4941,\n",
              "         0.9922, 0.9922, 0.8824, 0.1608, 0.0000, 0.0000, 0.0000, 0.0000, 0.0000,\n",
              "         0.0000],\n",
              "        [0.0000, 0.0000, 0.0000, 0.0000, 0.0000, 0.8392, 0.9922, 0.9922, 0.4235,\n",
              "         0.0000, 0.0000, 0.0000, 0.0000, 0.0000, 0.1843, 0.6667, 0.8549, 0.9922,\n",
              "         0.9569, 0.6902, 0.0784, 0.0000, 0.0000, 0.0000, 0.0000, 0.0000, 0.0000,\n",
              "         0.0000],\n",
              "        [0.0000, 0.0000, 0.0000, 0.0000, 0.0000, 0.6549, 0.9922, 0.9922, 0.9412,\n",
              "         0.7137, 0.7137, 0.7137, 0.7137, 0.7137, 0.9804, 0.9961, 0.9922, 0.8471,\n",
              "         0.3882, 0.0000, 0.0000, 0.0000, 0.0000, 0.0000, 0.0000, 0.0000, 0.0000,\n",
              "         0.0000],\n",
              "        [0.0000, 0.0000, 0.0000, 0.0000, 0.0000, 0.3765, 0.8706, 0.9922, 0.9922,\n",
              "         0.9922, 0.9922, 0.9922, 0.9922, 0.9922, 0.9922, 0.9843, 0.6627, 0.0902,\n",
              "         0.0000, 0.0000, 0.0000, 0.0000, 0.0000, 0.0000, 0.0000, 0.0000, 0.0000,\n",
              "         0.0000],\n",
              "        [0.0000, 0.0000, 0.0000, 0.0000, 0.0000, 0.0000, 0.1529, 0.6588, 0.8824,\n",
              "         0.9922, 0.9922, 0.8353, 0.7059, 0.6588, 0.2078, 0.1804, 0.0000, 0.0000,\n",
              "         0.0000, 0.0000, 0.0000, 0.0000, 0.0000, 0.0000, 0.0000, 0.0000, 0.0000,\n",
              "         0.0000],\n",
              "        [0.0000, 0.0000, 0.0000, 0.0000, 0.0000, 0.0000, 0.0000, 0.0000, 0.0941,\n",
              "         0.1412, 0.1412, 0.0745, 0.0196, 0.0000, 0.0000, 0.0000, 0.0000, 0.0000,\n",
              "         0.0000, 0.0000, 0.0000, 0.0000, 0.0000, 0.0000, 0.0000, 0.0000, 0.0000,\n",
              "         0.0000],\n",
              "        [0.0000, 0.0000, 0.0000, 0.0000, 0.0000, 0.0000, 0.0000, 0.0000, 0.0000,\n",
              "         0.0000, 0.0000, 0.0000, 0.0000, 0.0000, 0.0000, 0.0000, 0.0000, 0.0000,\n",
              "         0.0000, 0.0000, 0.0000, 0.0000, 0.0000, 0.0000, 0.0000, 0.0000, 0.0000,\n",
              "         0.0000],\n",
              "        [0.0000, 0.0000, 0.0000, 0.0000, 0.0000, 0.0000, 0.0000, 0.0000, 0.0000,\n",
              "         0.0000, 0.0000, 0.0000, 0.0000, 0.0000, 0.0000, 0.0000, 0.0000, 0.0000,\n",
              "         0.0000, 0.0000, 0.0000, 0.0000, 0.0000, 0.0000, 0.0000, 0.0000, 0.0000,\n",
              "         0.0000],\n",
              "        [0.0000, 0.0000, 0.0000, 0.0000, 0.0000, 0.0000, 0.0000, 0.0000, 0.0000,\n",
              "         0.0000, 0.0000, 0.0000, 0.0000, 0.0000, 0.0000, 0.0000, 0.0000, 0.0000,\n",
              "         0.0000, 0.0000, 0.0000, 0.0000, 0.0000, 0.0000, 0.0000, 0.0000, 0.0000,\n",
              "         0.0000],\n",
              "        [0.0000, 0.0000, 0.0000, 0.0000, 0.0000, 0.0000, 0.0000, 0.0000, 0.0000,\n",
              "         0.0000, 0.0000, 0.0000, 0.0000, 0.0000, 0.0000, 0.0000, 0.0000, 0.0000,\n",
              "         0.0000, 0.0000, 0.0000, 0.0000, 0.0000, 0.0000, 0.0000, 0.0000, 0.0000,\n",
              "         0.0000],\n",
              "        [0.0000, 0.0000, 0.0000, 0.0000, 0.0000, 0.0000, 0.0000, 0.0000, 0.0000,\n",
              "         0.0000, 0.0000, 0.0000, 0.0000, 0.0000, 0.0000, 0.0000, 0.0000, 0.0000,\n",
              "         0.0000, 0.0000, 0.0000, 0.0000, 0.0000, 0.0000, 0.0000, 0.0000, 0.0000,\n",
              "         0.0000],\n",
              "        [0.0000, 0.0000, 0.0000, 0.0000, 0.0000, 0.0000, 0.0000, 0.0000, 0.0000,\n",
              "         0.0000, 0.0000, 0.0000, 0.0000, 0.0000, 0.0000, 0.0000, 0.0000, 0.0000,\n",
              "         0.0000, 0.0000, 0.0000, 0.0000, 0.0000, 0.0000, 0.0000, 0.0000, 0.0000,\n",
              "         0.0000]])"
            ]
          },
          "metadata": {},
          "execution_count": 10
        }
      ]
    },
    {
      "cell_type": "markdown",
      "source": [
        "### 2) After 1st Convolution Layer"
      ],
      "metadata": {
        "id": "idiwIS6D261T"
      }
    },
    {
      "cell_type": "markdown",
      "source": [
        "흑백이므로 1개의 채널, 이미지 크기 28x28의 입력이 첫 번째 Covolution Layer를 지나면서 16개의 out_channel을 갖게 되고   \n",
        "이미지 크기는 2x2 Maxpooling으로 인해 14x14로 절반으로 줄어들었다"
      ],
      "metadata": {
        "id": "okZLlJ2N5kPF"
      }
    },
    {
      "cell_type": "code",
      "source": [
        "model.eval()\n",
        "output1 = model.forward1(images)\n",
        "print(f\"{images.size()} --> {output1.size()}\")"
      ],
      "metadata": {
        "colab": {
          "base_uri": "https://localhost:8080/"
        },
        "id": "q0YOSQh02t7s",
        "outputId": "dc3b4209-9f22-4c7f-db97-76db48b0075b"
      },
      "execution_count": 11,
      "outputs": [
        {
          "output_type": "stream",
          "name": "stdout",
          "text": [
            "torch.Size([50, 1, 28, 28]) --> torch.Size([50, 16, 14, 14])\n"
          ]
        }
      ]
    },
    {
      "cell_type": "code",
      "source": [
        "image1, image2 = output1[0], output1[1]\n",
        "print(image1.size(), image2.size())"
      ],
      "metadata": {
        "colab": {
          "base_uri": "https://localhost:8080/"
        },
        "id": "vKIuWkxW3EYu",
        "outputId": "ec965d86-e63c-4a4d-e892-609b23c01de1"
      },
      "execution_count": 12,
      "outputs": [
        {
          "output_type": "stream",
          "name": "stdout",
          "text": [
            "torch.Size([16, 14, 14]) torch.Size([16, 14, 14])\n"
          ]
        }
      ]
    },
    {
      "cell_type": "code",
      "source": [
        "image1[-1]  # 16개 중 마지막을 출력한 것으로, 14개씩 14개로 이루어진 2차원 tensor임을 확인할 수 있다\n",
        "            # 추가적으로, ReLU를 지났기 때문에 음수 값은 없으며 기존 데이터도 1이하이므로 0 ~ 1 사이의 값이 유지된 것을 확인할 수 있다"
      ],
      "metadata": {
        "colab": {
          "base_uri": "https://localhost:8080/"
        },
        "id": "id6z4XyE-HCW",
        "outputId": "8acf1aa4-45ae-4db4-cdd0-70aad2820721"
      },
      "execution_count": 13,
      "outputs": [
        {
          "output_type": "execute_result",
          "data": {
            "text/plain": [
              "tensor([[0.0000, 0.0000, 0.0000, 0.0000, 0.0000, 0.0000, 0.0000, 0.0000, 0.0000,\n",
              "         0.0000, 0.0000, 0.0000, 0.0000, 0.0000],\n",
              "        [0.0000, 0.0000, 0.0000, 0.0000, 0.0000, 0.0000, 0.0000, 0.0000, 0.0000,\n",
              "         0.0000, 0.0000, 0.0000, 0.0000, 0.0000],\n",
              "        [0.0000, 0.0000, 0.0000, 0.0000, 0.0000, 0.0000, 0.0000, 0.0486, 0.1057,\n",
              "         0.1258, 0.0622, 0.0000, 0.0000, 0.0000],\n",
              "        [0.0000, 0.0000, 0.0000, 0.0000, 0.0311, 0.1329, 0.3177, 0.3920, 0.5530,\n",
              "         0.3988, 0.0934, 0.1605, 0.1332, 0.0000],\n",
              "        [0.0000, 0.0000, 0.0000, 0.0495, 0.2063, 0.6323, 0.7056, 0.7271, 0.7372,\n",
              "         0.1695, 0.2287, 0.3752, 0.0996, 0.0029],\n",
              "        [0.0000, 0.0000, 0.0763, 0.3021, 0.7059, 0.6777, 0.5632, 0.2355, 0.0246,\n",
              "         0.0000, 0.4539, 0.3340, 0.0000, 0.0000],\n",
              "        [0.0000, 0.0000, 0.1899, 0.6944, 0.6607, 0.3098, 0.0000, 0.0000, 0.0000,\n",
              "         0.2531, 0.5284, 0.3326, 0.0000, 0.0000],\n",
              "        [0.0000, 0.0932, 0.6323, 0.5996, 0.3552, 0.0000, 0.0173, 0.0408, 0.2303,\n",
              "         0.6621, 0.6249, 0.0000, 0.0000, 0.0000],\n",
              "        [0.0000, 0.1334, 0.5642, 0.4979, 0.0000, 0.2686, 0.4002, 0.5607, 0.6742,\n",
              "         0.5692, 0.0000, 0.0000, 0.0000, 0.0000],\n",
              "        [0.0000, 0.1516, 0.4119, 0.2487, 0.1759, 0.4511, 0.5259, 0.4734, 0.1842,\n",
              "         0.0000, 0.0000, 0.0000, 0.0000, 0.0000],\n",
              "        [0.0000, 0.0592, 0.0767, 0.0000, 0.0000, 0.0000, 0.0000, 0.0000, 0.0000,\n",
              "         0.0000, 0.0000, 0.0000, 0.0000, 0.0000],\n",
              "        [0.0000, 0.0000, 0.0000, 0.0000, 0.0000, 0.0000, 0.0000, 0.0000, 0.0000,\n",
              "         0.0000, 0.0000, 0.0000, 0.0000, 0.0000],\n",
              "        [0.0000, 0.0000, 0.0000, 0.0000, 0.0000, 0.0000, 0.0000, 0.0000, 0.0000,\n",
              "         0.0000, 0.0000, 0.0000, 0.0000, 0.0000],\n",
              "        [0.0000, 0.0000, 0.0000, 0.0000, 0.0000, 0.0000, 0.0000, 0.0000, 0.0000,\n",
              "         0.0000, 0.0000, 0.0000, 0.0000, 0.0000]], grad_fn=<SelectBackward0>)"
            ]
          },
          "metadata": {},
          "execution_count": 13
        }
      ]
    },
    {
      "cell_type": "markdown",
      "source": [
        "첫 번째 Convolution layer를 지나고 난 이후,   \n",
        "channel이 16이고 image의 사이즈가 14x14인 상태이다"
      ],
      "metadata": {
        "id": "lqw6rO1o36xJ"
      }
    },
    {
      "cell_type": "code",
      "source": [
        "plt.figure(figsize=(15,15))\n",
        "\n",
        "for i in range(len(image1)):\n",
        "  plt.subplot(1, len(image1), i+1)\n",
        "  plt.imshow(image1[i].detach().numpy(), cmap='gray')"
      ],
      "metadata": {
        "colab": {
          "base_uri": "https://localhost:8080/",
          "height": 125
        },
        "id": "PMdKRb2K3W33",
        "outputId": "6e36e4f3-d705-4127-a21d-542706fd99ab"
      },
      "execution_count": 14,
      "outputs": [
        {
          "output_type": "display_data",
          "data": {
            "text/plain": [
              "<Figure size 1500x1500 with 16 Axes>"
            ],
            "image/png": "[encoded data removed]"
          },
          "metadata": {}
        }
      ]
    },
    {
      "cell_type": "code",
      "source": [
        "plt.figure(figsize=(15,15))\n",
        "\n",
        "for i in range(len(image2)):\n",
        "  plt.subplot(1, len(image2), i+1)\n",
        "  plt.imshow(image2[i].detach().numpy(), cmap='gray')"
      ],
      "metadata": {
        "colab": {
          "base_uri": "https://localhost:8080/",
          "height": 125
        },
        "id": "TThPbVEN3v17",
        "outputId": "c552e03b-c28b-4b6a-87ad-31f3d065a66d"
      },
      "execution_count": 15,
      "outputs": [
        {
          "output_type": "display_data",
          "data": {
            "text/plain": [
              "<Figure size 1500x1500 with 16 Axes>"
            ],
            "image/png": "[encoded data removed]"
          },
          "metadata": {}
        }
      ]
    },
    {
      "cell_type": "markdown",
      "source": [
        "Convolutional Layer는 입력 데이터에 대한 특징을 추출하는 역할을 한다.   \n",
        "각각의 필터(커널)는 특정한 패턴이나 특징을 감지하도록 설계되어 있고   \n",
        "현재 첫 번째 Convolution layer를 지난 후 16개의 채널은 feature map의 차원을 의미한다   \n",
        "\n",
        "각 필터(커널)는 입력 이미지의 작은 영역에 대해 가중치를 적용하고, 이를 통해 새로운 특징 맵(feature map)을 생성한다.   \n",
        "여러 개의 필터가 함께 작동하여 서로 다른 특징을 동시에 감지하고, 이렇게 얻은 다양한 특징 맵들이 다음 레이어로 전달된다.   \n",
        "\n",
        "즉 현재 16개의 서로 다른 이미지들은 모두 이미지의 16가지 feature을 나타내고 있는 것이라고 이해하면 된다"
      ],
      "metadata": {
        "id": "ftVLWD-W4DYV"
      }
    },
    {
      "cell_type": "markdown",
      "source": [
        "### 3) After 2nd Convolution Layer"
      ],
      "metadata": {
        "id": "LZo-ZS1G5MUL"
      }
    },
    {
      "cell_type": "markdown",
      "source": [
        "16개의 채널과 14x14의 크기를 가진 output1이 2번째 Convolution Layer를 지나면서   \n",
        "32개의 out_channel을 갖게 되었고 2x2 Maxpooling을 통해 이미지는 다시 절반의 크기로 줄어들어 7x7이 되었다   "
      ],
      "metadata": {
        "id": "VxyoekR_53hF"
      }
    },
    {
      "cell_type": "code",
      "source": [
        "output2 = model.forward2(output1)\n",
        "print(f\"{output1.size()} --> {output2.size()}\")"
      ],
      "metadata": {
        "colab": {
          "base_uri": "https://localhost:8080/"
        },
        "id": "75DmoCkv306X",
        "outputId": "b6310372-edaf-44ca-bde5-6013a0a619de"
      },
      "execution_count": 16,
      "outputs": [
        {
          "output_type": "stream",
          "name": "stdout",
          "text": [
            "torch.Size([50, 16, 14, 14]) --> torch.Size([50, 32, 7, 7])\n"
          ]
        }
      ]
    },
    {
      "cell_type": "code",
      "source": [
        "image1, image2 = output2[0], output2[1]\n",
        "print(image1.size(), image2.size())"
      ],
      "metadata": {
        "colab": {
          "base_uri": "https://localhost:8080/"
        },
        "id": "iTU_MwOA5Yhk",
        "outputId": "e46f2998-b45d-463d-9826-2a9d5158da8d"
      },
      "execution_count": 17,
      "outputs": [
        {
          "output_type": "stream",
          "name": "stdout",
          "text": [
            "torch.Size([32, 7, 7]) torch.Size([32, 7, 7])\n"
          ]
        }
      ]
    },
    {
      "cell_type": "code",
      "source": [
        "image1.size()"
      ],
      "metadata": {
        "colab": {
          "base_uri": "https://localhost:8080/"
        },
        "id": "hfocjVk2_L2i",
        "outputId": "02f1c26f-8b38-4e64-b018-65cc06e2c212"
      },
      "execution_count": 18,
      "outputs": [
        {
          "output_type": "execute_result",
          "data": {
            "text/plain": [
              "torch.Size([32, 7, 7])"
            ]
          },
          "metadata": {},
          "execution_count": 18
        }
      ]
    },
    {
      "cell_type": "code",
      "source": [
        "image1[-1]  # 32개 중 마지막을 가져왔으며 7x7임을 확인할 수 있다\n",
        "            # 똑같이 ReLU를 지났기 때문에 0 ~ 1 사이의 값으로 나타난 것을 확인할 수 있다"
      ],
      "metadata": {
        "colab": {
          "base_uri": "https://localhost:8080/"
        },
        "id": "9s8gjFPh_Ntg",
        "outputId": "e4daed47-6df5-4370-b042-7cb61cbf93ac"
      },
      "execution_count": 19,
      "outputs": [
        {
          "output_type": "execute_result",
          "data": {
            "text/plain": [
              "tensor([[0.0000, 0.0000, 0.0000, 0.0000, 0.0000, 0.0000, 0.0000],\n",
              "        [0.0000, 0.0000, 0.0000, 0.0000, 0.0000, 0.0000, 0.0258],\n",
              "        [0.0000, 0.0000, 0.0000, 0.0000, 0.0000, 0.0000, 0.0000],\n",
              "        [0.0000, 0.0000, 0.0000, 0.0000, 0.0000, 0.0000, 0.0000],\n",
              "        [0.0000, 0.0000, 0.0000, 0.0000, 0.0000, 0.0000, 0.0000],\n",
              "        [0.0102, 0.0000, 0.0332, 0.0000, 0.0000, 0.0000, 0.0000],\n",
              "        [0.0000, 0.0000, 0.0000, 0.0000, 0.0000, 0.0000, 0.0011]],\n",
              "       grad_fn=<SelectBackward0>)"
            ]
          },
          "metadata": {},
          "execution_count": 19
        }
      ]
    },
    {
      "cell_type": "code",
      "source": [
        "plt.figure(figsize=(15,3))\n",
        "\n",
        "for i in range(len(image1)):\n",
        "  plt.subplot(2, int(len(image1)/2), i+1)\n",
        "  plt.imshow(image1[i].detach().numpy(), cmap='gray')"
      ],
      "metadata": {
        "colab": {
          "base_uri": "https://localhost:8080/",
          "height": 249
        },
        "id": "ne0DQs-H5h1c",
        "outputId": "d413157a-1c59-4581-e3b5-316372be4a55"
      },
      "execution_count": 20,
      "outputs": [
        {
          "output_type": "display_data",
          "data": {
            "text/plain": [
              "<Figure size 1500x300 with 32 Axes>"
            ],
            "image/png": "[encoded data removed]"
          },
          "metadata": {}
        }
      ]
    },
    {
      "cell_type": "code",
      "source": [
        "plt.figure(figsize=(15,3))\n",
        "\n",
        "for i in range(len(image2)):\n",
        "  plt.subplot(2, int(len(image2)/2), i+1)\n",
        "  plt.imshow(image2[i].detach().numpy(), cmap='gray')"
      ],
      "metadata": {
        "colab": {
          "base_uri": "https://localhost:8080/",
          "height": 249
        },
        "id": "bTGOJCs26Gra",
        "outputId": "3a4ad876-a2d6-489a-b620-3c8431361e0e"
      },
      "execution_count": 21,
      "outputs": [
        {
          "output_type": "display_data",
          "data": {
            "text/plain": [
              "<Figure size 1500x300 with 32 Axes>"
            ],
            "image/png": "[encoded data removed]"
          },
          "metadata": {}
        }
      ]
    },
    {
      "cell_type": "markdown",
      "source": [
        "2번째 Convolution Layer를 지나면서 32개의 feature map이 생기게 되고,   \n",
        "feature map이 증가하는 만큼, 서로 다른 특징을 담고 있기 때문에 각각의 이미지는 원래의 형태(label)을 알아보기 어려워진다"
      ],
      "metadata": {
        "id": "91RPCABy7n6Z"
      }
    },
    {
      "cell_type": "markdown",
      "source": [
        "### 4) After 3rd Fully Connected Layer"
      ],
      "metadata": {
        "id": "tH9NId2h7o99"
      }
    },
    {
      "cell_type": "markdown",
      "source": [
        "32개의 out_channel과 7x7의 이미지 크기를 1차원으로 flatten하여 Fully Connected Layer에 입력으로 넣는다.   \n",
        "이때 x=x.reshape(x.size(0), -1)이 사용되는데, 이는 첫번째에 batch_size, 그리고 나머지를 자동 계산하여 두번째에 할당하게 된다"
      ],
      "metadata": {
        "id": "d0K9Beyd75mw"
      }
    },
    {
      "cell_type": "code",
      "source": [
        "output3 = model.forward3(output2)\n",
        "print(f\"{output2.size()} --> {output3.size()}\")"
      ],
      "metadata": {
        "colab": {
          "base_uri": "https://localhost:8080/"
        },
        "id": "rwHttHCj6LgS",
        "outputId": "ec1aefbb-f2f1-47f8-faf7-7d26e3c03149"
      },
      "execution_count": 22,
      "outputs": [
        {
          "output_type": "stream",
          "name": "stdout",
          "text": [
            "torch.Size([50, 32, 7, 7]) --> torch.Size([50, 120])\n"
          ]
        }
      ]
    },
    {
      "cell_type": "code",
      "source": [
        "image1, image2 = output3[0], output3[1]\n",
        "print(image1.size(), image2.size())"
      ],
      "metadata": {
        "colab": {
          "base_uri": "https://localhost:8080/"
        },
        "id": "SINrYms2714j",
        "outputId": "e3749f31-f48a-4d46-daf8-435c4b11eda1"
      },
      "execution_count": 23,
      "outputs": [
        {
          "output_type": "stream",
          "name": "stdout",
          "text": [
            "torch.Size([120]) torch.Size([120])\n"
          ]
        }
      ]
    },
    {
      "cell_type": "code",
      "source": [
        "# plt.imshow(image1[0].detach().numpy()) 더이상 이미지로 표현할 수 있는 2차원이 아닌, 1차원이기 때문에 오류가 발생한다"
      ],
      "metadata": {
        "id": "dy_s_JVQ745n"
      },
      "execution_count": 24,
      "outputs": []
    },
    {
      "cell_type": "code",
      "source": [
        "print(image1.size())\n",
        "image1  # 1차원에 120개의 tensor로 이루어져 있음을 확인할 수 있으며\n",
        "        # ReLU를 적용하지 않았기 때문에 음수 값이 나온 것도 확인해볼 수 있다\n",
        "        # ReLu는 확인을 위해 적용하지 않은 것이며, 실제로 train에 사용하는 forward에는 적용되어 있다"
      ],
      "metadata": {
        "colab": {
          "base_uri": "https://localhost:8080/"
        },
        "id": "5zCYhkmI8hiu",
        "outputId": "4097fefa-c88f-4884-e852-3237175401e1"
      },
      "execution_count": 25,
      "outputs": [
        {
          "output_type": "stream",
          "name": "stdout",
          "text": [
            "torch.Size([120])\n"
          ]
        },
        {
          "output_type": "execute_result",
          "data": {
            "text/plain": [
              "tensor([-0.0069,  0.0201, -0.0476, -0.0050,  0.0126,  0.1516,  0.0005,  0.0478,\n",
              "        -0.1248, -0.0278, -0.0492, -0.0648, -0.0408, -0.0297,  0.1020,  0.1137,\n",
              "        -0.0217,  0.0639, -0.0827, -0.1242,  0.0850, -0.0409, -0.0123, -0.0616,\n",
              "        -0.0325, -0.0193, -0.1192,  0.1126,  0.0342,  0.0486,  0.0302, -0.0448,\n",
              "         0.0373, -0.0154, -0.0086,  0.0301,  0.0486,  0.0945,  0.0440, -0.0197,\n",
              "        -0.0844,  0.0440, -0.0298, -0.0518,  0.0685,  0.0632, -0.0502, -0.0182,\n",
              "         0.0382,  0.0036,  0.0040,  0.0008,  0.0116, -0.0030,  0.1174, -0.0154,\n",
              "         0.1824,  0.0610,  0.1178,  0.2421,  0.0405, -0.0237, -0.0019, -0.0269,\n",
              "         0.0251,  0.0793,  0.1142, -0.0490,  0.1042,  0.0102,  0.0109,  0.0787,\n",
              "        -0.0446,  0.0659,  0.1011, -0.2111, -0.1232, -0.0556,  0.0391, -0.0272,\n",
              "         0.0761, -0.0497, -0.0128,  0.0202,  0.0150,  0.0529, -0.1097,  0.0103,\n",
              "        -0.1277, -0.0046, -0.0562,  0.0597,  0.0110, -0.0508,  0.0863, -0.0575,\n",
              "        -0.0893,  0.0038, -0.0199, -0.0648, -0.0228,  0.1337, -0.0757, -0.0539,\n",
              "        -0.0685, -0.0438,  0.0488,  0.0794, -0.0084,  0.1148,  0.0457, -0.0967,\n",
              "         0.0117,  0.0533,  0.0878, -0.0077,  0.1075, -0.0410,  0.0071,  0.1169],\n",
              "       grad_fn=<SelectBackward0>)"
            ]
          },
          "metadata": {},
          "execution_count": 25
        }
      ]
    },
    {
      "cell_type": "markdown",
      "source": [
        "## 5) After 4th Fully Connected Layer"
      ],
      "metadata": {
        "id": "duLWZFsq8tBo"
      }
    },
    {
      "cell_type": "markdown",
      "source": [],
      "metadata": {
        "id": "Mt1UOUyc9RkN"
      }
    },
    {
      "cell_type": "code",
      "source": [
        "output4 = model.forward4(output3)\n",
        "print(f\"{output3.size()} --> {output4.size()}\")"
      ],
      "metadata": {
        "colab": {
          "base_uri": "https://localhost:8080/"
        },
        "id": "keS04SxG8onf",
        "outputId": "a53a6dd1-3652-4478-d293-e12fafe12850"
      },
      "execution_count": 26,
      "outputs": [
        {
          "output_type": "stream",
          "name": "stdout",
          "text": [
            "torch.Size([50, 120]) --> torch.Size([50, 10])\n"
          ]
        }
      ]
    },
    {
      "cell_type": "code",
      "source": [
        "image1, image2 = output4[0], output4[1]\n",
        "print(image1.size())\n",
        "print(image2.size())"
      ],
      "metadata": {
        "colab": {
          "base_uri": "https://localhost:8080/"
        },
        "id": "dyUvYyxU8xlP",
        "outputId": "682f66f5-b7d7-4329-c4a6-5f11e49d2c97"
      },
      "execution_count": 27,
      "outputs": [
        {
          "output_type": "stream",
          "name": "stdout",
          "text": [
            "torch.Size([10])\n",
            "torch.Size([10])\n"
          ]
        }
      ]
    },
    {
      "cell_type": "code",
      "source": [
        "print(\"image1\")\n",
        "print(\"the final tensor :\", image1)\n",
        "print(\"the result prediction:\", image1.tolist().index(image1.max()))\n",
        "print(\"the original label:\", label1)"
      ],
      "metadata": {
        "colab": {
          "base_uri": "https://localhost:8080/"
        },
        "id": "9-RflFIU8ya9",
        "outputId": "ddf2d786-ace6-4f65-8980-d42275ab9ba9"
      },
      "execution_count": 28,
      "outputs": [
        {
          "output_type": "stream",
          "name": "stdout",
          "text": [
            "image1\n",
            "the final tensor : tensor([-0.0443,  0.0078, -0.0166,  0.0045, -0.0856,  0.0942, -0.0924, -0.0107,\n",
            "         0.0115, -0.1015], grad_fn=<SelectBackward0>)\n",
            "the result prediction: 5\n",
            "the original label: tensor(0)\n"
          ]
        }
      ]
    },
    {
      "cell_type": "code",
      "source": [
        "print(\"image2\")\n",
        "print(\"the final tensor:\", image2)\n",
        "print(\"the result prediction:\", image2.tolist().index(image2.max()))\n",
        "print(\"the original label:\", label2)"
      ],
      "metadata": {
        "colab": {
          "base_uri": "https://localhost:8080/"
        },
        "id": "p_WpmQ8N8zQi",
        "outputId": "5630cfcb-cbc6-4534-ee8c-407019898286"
      },
      "execution_count": 29,
      "outputs": [
        {
          "output_type": "stream",
          "name": "stdout",
          "text": [
            "image2\n",
            "the final tensor: tensor([-0.0516,  0.0232, -0.0061, -0.0048, -0.0493,  0.1220, -0.0631, -0.0058,\n",
            "         0.0592, -0.1152], grad_fn=<SelectBackward0>)\n",
            "the result prediction: 5\n",
            "the original label: tensor(3)\n"
          ]
        }
      ]
    },
    {
      "cell_type": "markdown",
      "source": [
        "각각의 이미지에 대해 10개의 out_channel이 생기고 그 10개 중 가장 큰 값을 가지는 것이 최종 예측이 된다.   \n",
        "현재 위의 예제에서는 train이 안 되었기 때문에 잘못된 예측을 하고 있다   "
      ],
      "metadata": {
        "id": "TlE7EH9g8_Ka"
      }
    },
    {
      "cell_type": "markdown",
      "source": [
        "## 6. Criterion & Optimizer"
      ],
      "metadata": {
        "id": "NSu4ZKsz9Zns"
      }
    },
    {
      "cell_type": "code",
      "source": [
        "model = Conv().to(device)\n",
        "criterion = nn.CrossEntropyLoss()\n",
        "optimizer = torch.optim.Adam(model.parameters(), lr=learning_rate)"
      ],
      "metadata": {
        "id": "OLHTAwM-87vo"
      },
      "execution_count": 30,
      "outputs": []
    },
    {
      "cell_type": "markdown",
      "source": [
        "## 7. Train"
      ],
      "metadata": {
        "id": "C6lzgWkKBuUy"
      }
    },
    {
      "cell_type": "code",
      "source": [
        "total_step = len(train_loader)\n",
        "total_loss = []\n",
        "model.train()\n",
        "for epoch in range(num_epochs):\n",
        "  epoch_loss = []\n",
        "  for i, (img, label) in enumerate(train_loader):\n",
        "    # Assign Tensors to Configures Devices (gpu)\n",
        "    img = img.to(device)\n",
        "    label = label.to(device)\n",
        "\n",
        "    # Forward propagation\n",
        "    outputs = model(img)\n",
        "\n",
        "    # Get Loss, Compute Gradient, Update Parameters\n",
        "    loss = criterion(outputs, label)\n",
        "    optimizer.zero_grad()\n",
        "    loss.backward()\n",
        "    optimizer.step()\n",
        "\n",
        "    epoch_loss.append(loss.detach().cpu().numpy())\n",
        "    # Print Loss\n",
        "    if i % 10000 == 0 or (i+1)==len(train_loader):\n",
        "      print('Epoch [{}/{}], Step [{}/{}], Loss: {:.4f}'.format(epoch+1, num_epochs, i+1, len(train_loader), loss.item()))\n",
        "  total_loss.append(np.mean(epoch_loss))\n",
        "  print(f\"epoch{i} loss: {np.mean(epoch_loss)}\")"
      ],
      "metadata": {
        "colab": {
          "base_uri": "https://localhost:8080/"
        },
        "id": "L9Axpzyl92lp",
        "outputId": "b3bba80b-4cbf-49be-e914-92a19e3158c8"
      },
      "execution_count": 31,
      "outputs": [
        {
          "output_type": "stream",
          "name": "stdout",
          "text": [
            "Epoch [1/5], Step [1/1200], Loss: 2.3117\n",
            "Epoch [1/5], Step [1200/1200], Loss: 0.0076\n",
            "epoch1199 loss: 0.12283080071210861\n",
            "Epoch [2/5], Step [1/1200], Loss: 0.0055\n",
            "Epoch [2/5], Step [1200/1200], Loss: 0.0040\n",
            "epoch1199 loss: 0.04706931486725807\n",
            "Epoch [3/5], Step [1/1200], Loss: 0.0008\n",
            "Epoch [3/5], Step [1200/1200], Loss: 0.0877\n",
            "epoch1199 loss: 0.036088284105062485\n",
            "Epoch [4/5], Step [1/1200], Loss: 0.0042\n",
            "Epoch [4/5], Step [1200/1200], Loss: 0.0174\n",
            "epoch1199 loss: 0.028094520792365074\n",
            "Epoch [5/5], Step [1/1200], Loss: 0.0119\n",
            "Epoch [5/5], Step [1200/1200], Loss: 0.0130\n",
            "epoch1199 loss: 0.021764514967799187\n"
          ]
        }
      ]
    },
    {
      "cell_type": "markdown",
      "source": [
        "## 8. Visualization"
      ],
      "metadata": {
        "id": "bV6ZGEh-Bs_P"
      }
    },
    {
      "cell_type": "code",
      "source": [
        "plt.plot(total_loss)\n",
        "plt.title(\"MNIST CNN loss example\")\n",
        "plt.show()"
      ],
      "metadata": {
        "colab": {
          "base_uri": "https://localhost:8080/",
          "height": 452
        },
        "id": "ZhN5hogpBnQg",
        "outputId": "68262e6d-c423-4f0c-85bf-3fe37664c196"
      },
      "execution_count": 32,
      "outputs": [
        {
          "output_type": "display_data",
          "data": {
            "text/plain": [
              "<Figure size 640x480 with 1 Axes>"
            ],
            "image/png": "[encoded data removed]"
          },
          "metadata": {}
        }
      ]
    },
    {
      "cell_type": "markdown",
      "source": [
        "## 9. Save Model and Load Model to test"
      ],
      "metadata": {
        "id": "163Yb8_mBziF"
      }
    },
    {
      "cell_type": "code",
      "source": [
        "# 9-1. save model\n",
        "torch.save(model.state_dict(),\"05-1. model.pth\")   # model의 weight 정보 만을 저장"
      ],
      "metadata": {
        "id": "58q3tUzYByQT"
      },
      "execution_count": 33,
      "outputs": []
    },
    {
      "cell_type": "code",
      "source": [
        "# 9-2. load model\n",
        "\n",
        "test_model = Conv().to(device)\n",
        "test_model.load_state_dict(torch.load(\"05-1. model.pth\"))   # test_model이라는 모델 안에 앞서 학습한 weight 정보가 담기게 된다"
      ],
      "metadata": {
        "colab": {
          "base_uri": "https://localhost:8080/"
        },
        "id": "T5QFqLN9B6Pc",
        "outputId": "c956d95a-1ae5-485e-fa13-8b50b1f849da"
      },
      "execution_count": 36,
      "outputs": [
        {
          "output_type": "execute_result",
          "data": {
            "text/plain": [
              "<All keys matched successfully>"
            ]
          },
          "metadata": {},
          "execution_count": 36
        }
      ]
    },
    {
      "cell_type": "code",
      "source": [
        "test_model.eval()\n",
        "\n",
        "with torch.no_grad():\n",
        "  correct = 0\n",
        "\n",
        "  for img, lab in test_loader:\n",
        "    img = img.to(device)\n",
        "    lab = lab.to(device)\n",
        "    out = test_model(img)\n",
        "    _, pred = torch.max(out.data, 1)\n",
        "    correct += (pred == lab).sum().item()\n",
        "\n",
        "  print(\"Accuracy of the network on the {} test images: {}%\".format(len(test_loader)*batch_size, 100 * correct / len(test_data)))"
      ],
      "metadata": {
        "colab": {
          "base_uri": "https://localhost:8080/"
        },
        "id": "Tt12Wr5DCBUO",
        "outputId": "ba4ef6e1-d506-400a-ecbe-fad0b350b2d8"
      },
      "execution_count": 37,
      "outputs": [
        {
          "output_type": "stream",
          "name": "stdout",
          "text": [
            "Accuracy of the network on the 10000 test images: 99.11%\n"
          ]
        }
      ]
    }
  ]
}